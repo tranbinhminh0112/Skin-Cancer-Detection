{
  "nbformat": 4,
  "nbformat_minor": 0,
  "metadata": {
    "colab": {
      "provenance": [],
      "machine_shape": "hm",
      "gpuType": "A100"
    },
    "kernelspec": {
      "name": "python3",
      "display_name": "Python 3"
    },
    "language_info": {
      "name": "python"
    },
    "accelerator": "GPU",
    "widgets": {
      "application/vnd.jupyter.widget-state+json": {
        "9124ce762c3841dc96b93fb466102971": {
          "model_module": "@jupyter-widgets/controls",
          "model_name": "HBoxModel",
          "model_module_version": "1.5.0",
          "state": {
            "_dom_classes": [],
            "_model_module": "@jupyter-widgets/controls",
            "_model_module_version": "1.5.0",
            "_model_name": "HBoxModel",
            "_view_count": null,
            "_view_module": "@jupyter-widgets/controls",
            "_view_module_version": "1.5.0",
            "_view_name": "HBoxView",
            "box_style": "",
            "children": [
              "IPY_MODEL_6ce6b2c1aef1472fbe0f3892f20a3312",
              "IPY_MODEL_3943b1b0791b44b78933ef6306f80036",
              "IPY_MODEL_97179706568e413c968ebd8f46970984"
            ],
            "layout": "IPY_MODEL_e1cb56dc853747179467bf1d888cd595"
          }
        },
        "6ce6b2c1aef1472fbe0f3892f20a3312": {
          "model_module": "@jupyter-widgets/controls",
          "model_name": "HTMLModel",
          "model_module_version": "1.5.0",
          "state": {
            "_dom_classes": [],
            "_model_module": "@jupyter-widgets/controls",
            "_model_module_version": "1.5.0",
            "_model_name": "HTMLModel",
            "_view_count": null,
            "_view_module": "@jupyter-widgets/controls",
            "_view_module_version": "1.5.0",
            "_view_name": "HTMLView",
            "description": "",
            "description_tooltip": null,
            "layout": "IPY_MODEL_47808ba010f74f4fb558a4a559f91cb2",
            "placeholder": "​",
            "style": "IPY_MODEL_6c8dd8f05a814ec49d0de6509b56052b",
            "value": "model.safetensors: 100%"
          }
        },
        "3943b1b0791b44b78933ef6306f80036": {
          "model_module": "@jupyter-widgets/controls",
          "model_name": "FloatProgressModel",
          "model_module_version": "1.5.0",
          "state": {
            "_dom_classes": [],
            "_model_module": "@jupyter-widgets/controls",
            "_model_module_version": "1.5.0",
            "_model_name": "FloatProgressModel",
            "_view_count": null,
            "_view_module": "@jupyter-widgets/controls",
            "_view_module_version": "1.5.0",
            "_view_name": "ProgressView",
            "bar_style": "success",
            "description": "",
            "description_tooltip": null,
            "layout": "IPY_MODEL_5acb97a1bf9f4a7391368e3e4222abbb",
            "max": 21355344,
            "min": 0,
            "orientation": "horizontal",
            "style": "IPY_MODEL_df263f60a27c48feb75cc9dda98db48e",
            "value": 21355344
          }
        },
        "97179706568e413c968ebd8f46970984": {
          "model_module": "@jupyter-widgets/controls",
          "model_name": "HTMLModel",
          "model_module_version": "1.5.0",
          "state": {
            "_dom_classes": [],
            "_model_module": "@jupyter-widgets/controls",
            "_model_module_version": "1.5.0",
            "_model_name": "HTMLModel",
            "_view_count": null,
            "_view_module": "@jupyter-widgets/controls",
            "_view_module_version": "1.5.0",
            "_view_name": "HTMLView",
            "description": "",
            "description_tooltip": null,
            "layout": "IPY_MODEL_956f0dec8e4541a78cf9455e7c805309",
            "placeholder": "​",
            "style": "IPY_MODEL_9538359b72ca4eff866b71869f4bcdcd",
            "value": " 21.4M/21.4M [00:00&lt;00:00, 292MB/s]"
          }
        },
        "e1cb56dc853747179467bf1d888cd595": {
          "model_module": "@jupyter-widgets/base",
          "model_name": "LayoutModel",
          "model_module_version": "1.2.0",
          "state": {
            "_model_module": "@jupyter-widgets/base",
            "_model_module_version": "1.2.0",
            "_model_name": "LayoutModel",
            "_view_count": null,
            "_view_module": "@jupyter-widgets/base",
            "_view_module_version": "1.2.0",
            "_view_name": "LayoutView",
            "align_content": null,
            "align_items": null,
            "align_self": null,
            "border": null,
            "bottom": null,
            "display": null,
            "flex": null,
            "flex_flow": null,
            "grid_area": null,
            "grid_auto_columns": null,
            "grid_auto_flow": null,
            "grid_auto_rows": null,
            "grid_column": null,
            "grid_gap": null,
            "grid_row": null,
            "grid_template_areas": null,
            "grid_template_columns": null,
            "grid_template_rows": null,
            "height": null,
            "justify_content": null,
            "justify_items": null,
            "left": null,
            "margin": null,
            "max_height": null,
            "max_width": null,
            "min_height": null,
            "min_width": null,
            "object_fit": null,
            "object_position": null,
            "order": null,
            "overflow": null,
            "overflow_x": null,
            "overflow_y": null,
            "padding": null,
            "right": null,
            "top": null,
            "visibility": null,
            "width": null
          }
        },
        "47808ba010f74f4fb558a4a559f91cb2": {
          "model_module": "@jupyter-widgets/base",
          "model_name": "LayoutModel",
          "model_module_version": "1.2.0",
          "state": {
            "_model_module": "@jupyter-widgets/base",
            "_model_module_version": "1.2.0",
            "_model_name": "LayoutModel",
            "_view_count": null,
            "_view_module": "@jupyter-widgets/base",
            "_view_module_version": "1.2.0",
            "_view_name": "LayoutView",
            "align_content": null,
            "align_items": null,
            "align_self": null,
            "border": null,
            "bottom": null,
            "display": null,
            "flex": null,
            "flex_flow": null,
            "grid_area": null,
            "grid_auto_columns": null,
            "grid_auto_flow": null,
            "grid_auto_rows": null,
            "grid_column": null,
            "grid_gap": null,
            "grid_row": null,
            "grid_template_areas": null,
            "grid_template_columns": null,
            "grid_template_rows": null,
            "height": null,
            "justify_content": null,
            "justify_items": null,
            "left": null,
            "margin": null,
            "max_height": null,
            "max_width": null,
            "min_height": null,
            "min_width": null,
            "object_fit": null,
            "object_position": null,
            "order": null,
            "overflow": null,
            "overflow_x": null,
            "overflow_y": null,
            "padding": null,
            "right": null,
            "top": null,
            "visibility": null,
            "width": null
          }
        },
        "6c8dd8f05a814ec49d0de6509b56052b": {
          "model_module": "@jupyter-widgets/controls",
          "model_name": "DescriptionStyleModel",
          "model_module_version": "1.5.0",
          "state": {
            "_model_module": "@jupyter-widgets/controls",
            "_model_module_version": "1.5.0",
            "_model_name": "DescriptionStyleModel",
            "_view_count": null,
            "_view_module": "@jupyter-widgets/base",
            "_view_module_version": "1.2.0",
            "_view_name": "StyleView",
            "description_width": ""
          }
        },
        "5acb97a1bf9f4a7391368e3e4222abbb": {
          "model_module": "@jupyter-widgets/base",
          "model_name": "LayoutModel",
          "model_module_version": "1.2.0",
          "state": {
            "_model_module": "@jupyter-widgets/base",
            "_model_module_version": "1.2.0",
            "_model_name": "LayoutModel",
            "_view_count": null,
            "_view_module": "@jupyter-widgets/base",
            "_view_module_version": "1.2.0",
            "_view_name": "LayoutView",
            "align_content": null,
            "align_items": null,
            "align_self": null,
            "border": null,
            "bottom": null,
            "display": null,
            "flex": null,
            "flex_flow": null,
            "grid_area": null,
            "grid_auto_columns": null,
            "grid_auto_flow": null,
            "grid_auto_rows": null,
            "grid_column": null,
            "grid_gap": null,
            "grid_row": null,
            "grid_template_areas": null,
            "grid_template_columns": null,
            "grid_template_rows": null,
            "height": null,
            "justify_content": null,
            "justify_items": null,
            "left": null,
            "margin": null,
            "max_height": null,
            "max_width": null,
            "min_height": null,
            "min_width": null,
            "object_fit": null,
            "object_position": null,
            "order": null,
            "overflow": null,
            "overflow_x": null,
            "overflow_y": null,
            "padding": null,
            "right": null,
            "top": null,
            "visibility": null,
            "width": null
          }
        },
        "df263f60a27c48feb75cc9dda98db48e": {
          "model_module": "@jupyter-widgets/controls",
          "model_name": "ProgressStyleModel",
          "model_module_version": "1.5.0",
          "state": {
            "_model_module": "@jupyter-widgets/controls",
            "_model_module_version": "1.5.0",
            "_model_name": "ProgressStyleModel",
            "_view_count": null,
            "_view_module": "@jupyter-widgets/base",
            "_view_module_version": "1.2.0",
            "_view_name": "StyleView",
            "bar_color": null,
            "description_width": ""
          }
        },
        "956f0dec8e4541a78cf9455e7c805309": {
          "model_module": "@jupyter-widgets/base",
          "model_name": "LayoutModel",
          "model_module_version": "1.2.0",
          "state": {
            "_model_module": "@jupyter-widgets/base",
            "_model_module_version": "1.2.0",
            "_model_name": "LayoutModel",
            "_view_count": null,
            "_view_module": "@jupyter-widgets/base",
            "_view_module_version": "1.2.0",
            "_view_name": "LayoutView",
            "align_content": null,
            "align_items": null,
            "align_self": null,
            "border": null,
            "bottom": null,
            "display": null,
            "flex": null,
            "flex_flow": null,
            "grid_area": null,
            "grid_auto_columns": null,
            "grid_auto_flow": null,
            "grid_auto_rows": null,
            "grid_column": null,
            "grid_gap": null,
            "grid_row": null,
            "grid_template_areas": null,
            "grid_template_columns": null,
            "grid_template_rows": null,
            "height": null,
            "justify_content": null,
            "justify_items": null,
            "left": null,
            "margin": null,
            "max_height": null,
            "max_width": null,
            "min_height": null,
            "min_width": null,
            "object_fit": null,
            "object_position": null,
            "order": null,
            "overflow": null,
            "overflow_x": null,
            "overflow_y": null,
            "padding": null,
            "right": null,
            "top": null,
            "visibility": null,
            "width": null
          }
        },
        "9538359b72ca4eff866b71869f4bcdcd": {
          "model_module": "@jupyter-widgets/controls",
          "model_name": "DescriptionStyleModel",
          "model_module_version": "1.5.0",
          "state": {
            "_model_module": "@jupyter-widgets/controls",
            "_model_module_version": "1.5.0",
            "_model_name": "DescriptionStyleModel",
            "_view_count": null,
            "_view_module": "@jupyter-widgets/base",
            "_view_module_version": "1.2.0",
            "_view_name": "StyleView",
            "description_width": ""
          }
        }
      }
    }
  },
  "cells": [
    {
      "cell_type": "code",
      "execution_count": null,
      "metadata": {
        "colab": {
          "base_uri": "https://localhost:8080/"
        },
        "id": "Eq2RvxeQtqRV",
        "outputId": "9a07db62-a407-4650-ec5f-f9df64816ccb"
      },
      "outputs": [
        {
          "output_type": "stream",
          "name": "stdout",
          "text": [
            "Mounted at /content/drive\n"
          ]
        }
      ],
      "source": [
        "# Mount Google Drive for dataset storage and checkpointing\n",
        "from google.colab import drive\n",
        "import os\n",
        "import zipfile\n",
        "import random\n",
        "\n",
        "drive.mount('/content/drive')"
      ]
    },
    {
      "cell_type": "code",
      "source": [
        "import warnings\n",
        "\n",
        "# To suppress all warnings\n",
        "warnings.filterwarnings('ignore')"
      ],
      "metadata": {
        "id": "vHSYGZOXwgaS"
      },
      "execution_count": null,
      "outputs": []
    },
    {
      "cell_type": "code",
      "source": [
        "# Install dependencies\n",
        "!pip install timm\n",
        "\n",
        "# Import packages\n",
        "import os\n",
        "import time\n",
        "import pandas as pd\n",
        "import torch\n",
        "import torch.nn as nn\n",
        "import torch.optim as optim\n",
        "import torchvision.transforms as transforms\n",
        "from torch.utils.data import Dataset, DataLoader\n",
        "from PIL import Image\n",
        "from sklearn.model_selection import train_test_split\n",
        "from sklearn.metrics import accuracy_score, recall_score, precision_score, roc_auc_score, roc_curve\n",
        "import matplotlib.pyplot as plt\n",
        "from datetime import datetime\n",
        "import timm  # EfficientNet models"
      ],
      "metadata": {
        "collapsed": true,
        "colab": {
          "base_uri": "https://localhost:8080/"
        },
        "id": "d9fr12ubuQCf",
        "outputId": "1c4de6b1-814a-4be7-cdd3-8c37c4baf106"
      },
      "execution_count": null,
      "outputs": [
        {
          "metadata": {
            "tags": null
          },
          "name": "stdout",
          "output_type": "stream",
          "text": [
            "Requirement already satisfied: timm in /usr/local/lib/python3.11/dist-packages (1.0.15)\n",
            "Requirement already satisfied: torch in /usr/local/lib/python3.11/dist-packages (from timm) (2.6.0+cu124)\n",
            "Requirement already satisfied: torchvision in /usr/local/lib/python3.11/dist-packages (from timm) (0.21.0+cu124)\n",
            "Requirement already satisfied: pyyaml in /usr/local/lib/python3.11/dist-packages (from timm) (6.0.2)\n",
            "Requirement already satisfied: huggingface_hub in /usr/local/lib/python3.11/dist-packages (from timm) (0.33.0)\n",
            "Requirement already satisfied: safetensors in /usr/local/lib/python3.11/dist-packages (from timm) (0.5.3)\n",
            "Requirement already satisfied: filelock in /usr/local/lib/python3.11/dist-packages (from huggingface_hub->timm) (3.18.0)\n",
            "Requirement already satisfied: fsspec>=2023.5.0 in /usr/local/lib/python3.11/dist-packages (from huggingface_hub->timm) (2025.3.2)\n",
            "Requirement already satisfied: packaging>=20.9 in /usr/local/lib/python3.11/dist-packages (from huggingface_hub->timm) (24.2)\n",
            "Requirement already satisfied: requests in /usr/local/lib/python3.11/dist-packages (from huggingface_hub->timm) (2.32.3)\n",
            "Requirement already satisfied: tqdm>=4.42.1 in /usr/local/lib/python3.11/dist-packages (from huggingface_hub->timm) (4.67.1)\n",
            "Requirement already satisfied: typing-extensions>=3.7.4.3 in /usr/local/lib/python3.11/dist-packages (from huggingface_hub->timm) (4.14.0)\n",
            "Requirement already satisfied: hf-xet<2.0.0,>=1.1.2 in /usr/local/lib/python3.11/dist-packages (from huggingface_hub->timm) (1.1.4)\n",
            "Requirement already satisfied: networkx in /usr/local/lib/python3.11/dist-packages (from torch->timm) (3.5)\n",
            "Requirement already satisfied: jinja2 in /usr/local/lib/python3.11/dist-packages (from torch->timm) (3.1.6)\n",
            "Collecting nvidia-cuda-nvrtc-cu12==12.4.127 (from torch->timm)\n",
            "  Downloading nvidia_cuda_nvrtc_cu12-12.4.127-py3-none-manylinux2014_x86_64.whl.metadata (1.5 kB)\n",
            "Collecting nvidia-cuda-runtime-cu12==12.4.127 (from torch->timm)\n",
            "  Downloading nvidia_cuda_runtime_cu12-12.4.127-py3-none-manylinux2014_x86_64.whl.metadata (1.5 kB)\n",
            "Collecting nvidia-cuda-cupti-cu12==12.4.127 (from torch->timm)\n",
            "  Downloading nvidia_cuda_cupti_cu12-12.4.127-py3-none-manylinux2014_x86_64.whl.metadata (1.6 kB)\n",
            "Collecting nvidia-cudnn-cu12==9.1.0.70 (from torch->timm)\n",
            "  Downloading nvidia_cudnn_cu12-9.1.0.70-py3-none-manylinux2014_x86_64.whl.metadata (1.6 kB)\n",
            "Collecting nvidia-cublas-cu12==12.4.5.8 (from torch->timm)\n",
            "  Downloading nvidia_cublas_cu12-12.4.5.8-py3-none-manylinux2014_x86_64.whl.metadata (1.5 kB)\n",
            "Collecting nvidia-cufft-cu12==11.2.1.3 (from torch->timm)\n",
            "  Downloading nvidia_cufft_cu12-11.2.1.3-py3-none-manylinux2014_x86_64.whl.metadata (1.5 kB)\n",
            "Collecting nvidia-curand-cu12==10.3.5.147 (from torch->timm)\n",
            "  Downloading nvidia_curand_cu12-10.3.5.147-py3-none-manylinux2014_x86_64.whl.metadata (1.5 kB)\n",
            "Collecting nvidia-cusolver-cu12==11.6.1.9 (from torch->timm)\n",
            "  Downloading nvidia_cusolver_cu12-11.6.1.9-py3-none-manylinux2014_x86_64.whl.metadata (1.6 kB)\n",
            "Collecting nvidia-cusparse-cu12==12.3.1.170 (from torch->timm)\n",
            "  Downloading nvidia_cusparse_cu12-12.3.1.170-py3-none-manylinux2014_x86_64.whl.metadata (1.6 kB)\n",
            "Requirement already satisfied: nvidia-cusparselt-cu12==0.6.2 in /usr/local/lib/python3.11/dist-packages (from torch->timm) (0.6.2)\n",
            "Requirement already satisfied: nvidia-nccl-cu12==2.21.5 in /usr/local/lib/python3.11/dist-packages (from torch->timm) (2.21.5)\n",
            "Requirement already satisfied: nvidia-nvtx-cu12==12.4.127 in /usr/local/lib/python3.11/dist-packages (from torch->timm) (12.4.127)\n",
            "Collecting nvidia-nvjitlink-cu12==12.4.127 (from torch->timm)\n",
            "  Downloading nvidia_nvjitlink_cu12-12.4.127-py3-none-manylinux2014_x86_64.whl.metadata (1.5 kB)\n",
            "Requirement already satisfied: triton==3.2.0 in /usr/local/lib/python3.11/dist-packages (from torch->timm) (3.2.0)\n",
            "Requirement already satisfied: sympy==1.13.1 in /usr/local/lib/python3.11/dist-packages (from torch->timm) (1.13.1)\n",
            "Requirement already satisfied: mpmath<1.4,>=1.1.0 in /usr/local/lib/python3.11/dist-packages (from sympy==1.13.1->torch->timm) (1.3.0)\n",
            "Requirement already satisfied: numpy in /usr/local/lib/python3.11/dist-packages (from torchvision->timm) (2.0.2)\n",
            "Requirement already satisfied: pillow!=8.3.*,>=5.3.0 in /usr/local/lib/python3.11/dist-packages (from torchvision->timm) (11.2.1)\n",
            "Requirement already satisfied: MarkupSafe>=2.0 in /usr/local/lib/python3.11/dist-packages (from jinja2->torch->timm) (3.0.2)\n",
            "Requirement already satisfied: charset-normalizer<4,>=2 in /usr/local/lib/python3.11/dist-packages (from requests->huggingface_hub->timm) (3.4.2)\n",
            "Requirement already satisfied: idna<4,>=2.5 in /usr/local/lib/python3.11/dist-packages (from requests->huggingface_hub->timm) (3.10)\n",
            "Requirement already satisfied: urllib3<3,>=1.21.1 in /usr/local/lib/python3.11/dist-packages (from requests->huggingface_hub->timm) (2.4.0)\n",
            "Requirement already satisfied: certifi>=2017.4.17 in /usr/local/lib/python3.11/dist-packages (from requests->huggingface_hub->timm) (2025.6.15)\n",
            "Downloading nvidia_cublas_cu12-12.4.5.8-py3-none-manylinux2014_x86_64.whl (363.4 MB)\n",
            "\u001b[2K   \u001b[90m━━━━━━━━━━━━━━━━━━━━━━━━━━━━━━━━━━━━━━━━\u001b[0m \u001b[32m363.4/363.4 MB\u001b[0m \u001b[31m4.8 MB/s\u001b[0m eta \u001b[36m0:00:00\u001b[0m\n",
            "\u001b[?25hDownloading nvidia_cuda_cupti_cu12-12.4.127-py3-none-manylinux2014_x86_64.whl (13.8 MB)\n",
            "\u001b[2K   \u001b[90m━━━━━━━━━━━━━━━━━━━━━━━━━━━━━━━━━━━━━━━━\u001b[0m \u001b[32m13.8/13.8 MB\u001b[0m \u001b[31m127.7 MB/s\u001b[0m eta \u001b[36m0:00:00\u001b[0m\n",
            "\u001b[?25hDownloading nvidia_cuda_nvrtc_cu12-12.4.127-py3-none-manylinux2014_x86_64.whl (24.6 MB)\n",
            "\u001b[2K   \u001b[90m━━━━━━━━━━━━━━━━━━━━━━━━━━━━━━━━━━━━━━━━\u001b[0m \u001b[32m24.6/24.6 MB\u001b[0m \u001b[31m93.4 MB/s\u001b[0m eta \u001b[36m0:00:00\u001b[0m\n",
            "\u001b[?25hDownloading nvidia_cuda_runtime_cu12-12.4.127-py3-none-manylinux2014_x86_64.whl (883 kB)\n",
            "\u001b[2K   \u001b[90m━━━━━━━━━━━━━━━━━━━━━━━━━━━━━━━━━━━━━━━━\u001b[0m \u001b[32m883.7/883.7 kB\u001b[0m \u001b[31m49.6 MB/s\u001b[0m eta \u001b[36m0:00:00\u001b[0m\n",
            "\u001b[?25hDownloading nvidia_cudnn_cu12-9.1.0.70-py3-none-manylinux2014_x86_64.whl (664.8 MB)\n",
            "\u001b[2K   \u001b[90m━━━━━━━━━━━━━━━━━━━━━━━━━━━━━━━━━━━━━━━━\u001b[0m \u001b[32m664.8/664.8 MB\u001b[0m \u001b[31m1.7 MB/s\u001b[0m eta \u001b[36m0:00:00\u001b[0m\n",
            "\u001b[?25hDownloading nvidia_cufft_cu12-11.2.1.3-py3-none-manylinux2014_x86_64.whl (211.5 MB)\n",
            "\u001b[2K   \u001b[90m━━━━━━━━━━━━━━━━━━━━━━━━━━━━━━━━━━━━━━━━\u001b[0m \u001b[32m211.5/211.5 MB\u001b[0m \u001b[31m11.5 MB/s\u001b[0m eta \u001b[36m0:00:00\u001b[0m\n",
            "\u001b[?25hDownloading nvidia_curand_cu12-10.3.5.147-py3-none-manylinux2014_x86_64.whl (56.3 MB)\n",
            "\u001b[2K   \u001b[90m━━━━━━━━━━━━━━━━━━━━━━━━━━━━━━━━━━━━━━━━\u001b[0m \u001b[32m56.3/56.3 MB\u001b[0m \u001b[31m41.5 MB/s\u001b[0m eta \u001b[36m0:00:00\u001b[0m\n",
            "\u001b[?25hDownloading nvidia_cusolver_cu12-11.6.1.9-py3-none-manylinux2014_x86_64.whl (127.9 MB)\n",
            "\u001b[2K   \u001b[90m━━━━━━━━━━━━━━━━━━━━━━━━━━━━━━━━━━━━━━━━\u001b[0m \u001b[32m127.9/127.9 MB\u001b[0m \u001b[31m19.4 MB/s\u001b[0m eta \u001b[36m0:00:00\u001b[0m\n",
            "\u001b[?25hDownloading nvidia_cusparse_cu12-12.3.1.170-py3-none-manylinux2014_x86_64.whl (207.5 MB)\n",
            "\u001b[2K   \u001b[90m━━━━━━━━━━━━━━━━━━━━━━━━━━━━━━━━━━━━━━━━\u001b[0m \u001b[32m207.5/207.5 MB\u001b[0m \u001b[31m4.0 MB/s\u001b[0m eta \u001b[36m0:00:00\u001b[0m\n",
            "\u001b[?25hDownloading nvidia_nvjitlink_cu12-12.4.127-py3-none-manylinux2014_x86_64.whl (21.1 MB)\n",
            "\u001b[2K   \u001b[90m━━━━━━━━━━━━━━━━━━━━━━━━━━━━━━━━━━━━━━━━\u001b[0m \u001b[32m21.1/21.1 MB\u001b[0m \u001b[31m103.5 MB/s\u001b[0m eta \u001b[36m0:00:00\u001b[0m\n",
            "\u001b[?25hInstalling collected packages: nvidia-nvjitlink-cu12, nvidia-curand-cu12, nvidia-cufft-cu12, nvidia-cuda-runtime-cu12, nvidia-cuda-nvrtc-cu12, nvidia-cuda-cupti-cu12, nvidia-cublas-cu12, nvidia-cusparse-cu12, nvidia-cudnn-cu12, nvidia-cusolver-cu12\n",
            "  Attempting uninstall: nvidia-nvjitlink-cu12\n",
            "    Found existing installation: nvidia-nvjitlink-cu12 12.5.82\n",
            "    Uninstalling nvidia-nvjitlink-cu12-12.5.82:\n",
            "      Successfully uninstalled nvidia-nvjitlink-cu12-12.5.82\n",
            "  Attempting uninstall: nvidia-curand-cu12\n",
            "    Found existing installation: nvidia-curand-cu12 10.3.6.82\n",
            "    Uninstalling nvidia-curand-cu12-10.3.6.82:\n",
            "      Successfully uninstalled nvidia-curand-cu12-10.3.6.82\n",
            "  Attempting uninstall: nvidia-cufft-cu12\n",
            "    Found existing installation: nvidia-cufft-cu12 11.2.3.61\n",
            "    Uninstalling nvidia-cufft-cu12-11.2.3.61:\n",
            "      Successfully uninstalled nvidia-cufft-cu12-11.2.3.61\n",
            "  Attempting uninstall: nvidia-cuda-runtime-cu12\n",
            "    Found existing installation: nvidia-cuda-runtime-cu12 12.5.82\n",
            "    Uninstalling nvidia-cuda-runtime-cu12-12.5.82:\n",
            "      Successfully uninstalled nvidia-cuda-runtime-cu12-12.5.82\n",
            "  Attempting uninstall: nvidia-cuda-nvrtc-cu12\n",
            "    Found existing installation: nvidia-cuda-nvrtc-cu12 12.5.82\n",
            "    Uninstalling nvidia-cuda-nvrtc-cu12-12.5.82:\n",
            "      Successfully uninstalled nvidia-cuda-nvrtc-cu12-12.5.82\n",
            "  Attempting uninstall: nvidia-cuda-cupti-cu12\n",
            "    Found existing installation: nvidia-cuda-cupti-cu12 12.5.82\n",
            "    Uninstalling nvidia-cuda-cupti-cu12-12.5.82:\n",
            "      Successfully uninstalled nvidia-cuda-cupti-cu12-12.5.82\n",
            "  Attempting uninstall: nvidia-cublas-cu12\n",
            "    Found existing installation: nvidia-cublas-cu12 12.5.3.2\n",
            "    Uninstalling nvidia-cublas-cu12-12.5.3.2:\n",
            "      Successfully uninstalled nvidia-cublas-cu12-12.5.3.2\n",
            "  Attempting uninstall: nvidia-cusparse-cu12\n",
            "    Found existing installation: nvidia-cusparse-cu12 12.5.1.3\n",
            "    Uninstalling nvidia-cusparse-cu12-12.5.1.3:\n",
            "      Successfully uninstalled nvidia-cusparse-cu12-12.5.1.3\n",
            "  Attempting uninstall: nvidia-cudnn-cu12\n",
            "    Found existing installation: nvidia-cudnn-cu12 9.3.0.75\n",
            "    Uninstalling nvidia-cudnn-cu12-9.3.0.75:\n",
            "      Successfully uninstalled nvidia-cudnn-cu12-9.3.0.75\n",
            "  Attempting uninstall: nvidia-cusolver-cu12\n",
            "    Found existing installation: nvidia-cusolver-cu12 11.6.3.83\n",
            "    Uninstalling nvidia-cusolver-cu12-11.6.3.83:\n",
            "      Successfully uninstalled nvidia-cusolver-cu12-11.6.3.83\n",
            "Successfully installed nvidia-cublas-cu12-12.4.5.8 nvidia-cuda-cupti-cu12-12.4.127 nvidia-cuda-nvrtc-cu12-12.4.127 nvidia-cuda-runtime-cu12-12.4.127 nvidia-cudnn-cu12-9.1.0.70 nvidia-cufft-cu12-11.2.1.3 nvidia-curand-cu12-10.3.5.147 nvidia-cusolver-cu12-11.6.1.9 nvidia-cusparse-cu12-12.3.1.170 nvidia-nvjitlink-cu12-12.4.127\n"
          ]
        }
      ]
    },
    {
      "cell_type": "code",
      "source": [
        "# Unzip dataset\n",
        "import os\n",
        "import zipfile\n",
        "\n",
        "zip_path = '/content/drive/MyDrive/400mal_600ben/400mal_600ben_224.zip'\n",
        "extract_path = '/content/400mal_600ben'\n",
        "\n",
        "if not os.path.exists(extract_path):\n",
        "    os.makedirs(extract_path)\n",
        "\n",
        "print(\"Unzipping...\")\n",
        "with zipfile.ZipFile(zip_path, 'r') as zip_ref:\n",
        "    zip_ref.extractall(extract_path)\n",
        "print(\"Unzip complete!\")\n",
        "\n",
        "# Print directory structure\n",
        "print(\"\\nFile structure:\")\n",
        "for root, dirs, files in os.walk(extract_path):\n",
        "    print(f\" {root}\")\n",
        "    for f in files[:5]:\n",
        "        print(f\"   - {f}\")"
      ],
      "metadata": {
        "colab": {
          "base_uri": "https://localhost:8080/"
        },
        "collapsed": true,
        "id": "qo1QKd0auUge",
        "outputId": "7fa4f3ec-cf7c-4acb-b8ad-3a3a35de856f"
      },
      "execution_count": null,
      "outputs": [
        {
          "output_type": "stream",
          "name": "stdout",
          "text": [
            "Unzipping...\n",
            "Unzip complete!\n",
            "\n",
            "File structure:\n",
            " /content/400mal_600ben\n",
            " /content/400mal_600ben/400mal_600ben_224\n",
            "   - ISIC_2766683.jpg\n",
            "   - ISIC_8300377.jpg\n",
            "   - ISIC_5365617.jpg\n",
            "   - ISIC_2232442.jpg\n",
            "   - ISIC_8195604.jpg\n",
            " /content/400mal_600ben/__MACOSX\n",
            " /content/400mal_600ben/__MACOSX/400mal_600ben_224\n",
            "   - ._ISIC_9625875.jpg\n",
            "   - ._ISIC_0517460.jpg\n"
          ]
        }
      ]
    },
    {
      "cell_type": "markdown",
      "source": [
        "# **1. DATA DECLARATION**"
      ],
      "metadata": {
        "id": "GTbNpT3FvCbY"
      }
    },
    {
      "cell_type": "code",
      "source": [
        "BATCH_SIZE = 32\n",
        "IMAGE_SIZE = 224\n",
        "EPOCHS = 15\n",
        "VERBOSE = True\n",
        "PRINT_FREQ = 50\n",
        "\n",
        "DEVICE = torch.device(\"cuda\" if torch.cuda.is_available() else \"cpu\")\n",
        "print(f\"Using device: {DEVICE}\")\n",
        "\n",
        "# Paths\n",
        "CSV_PATH = '/content/drive/MyDrive/ISIC_2020_Training_GroundTruth.csv'\n",
        "IMAGE_DIR = '/content/400mal_600ben/400mal_600ben_224'"
      ],
      "metadata": {
        "colab": {
          "base_uri": "https://localhost:8080/"
        },
        "id": "sDOuHmBJuYEM",
        "outputId": "71d1a0d7-aa9d-4d39-8d05-773e19eb705f"
      },
      "execution_count": null,
      "outputs": [
        {
          "output_type": "stream",
          "name": "stdout",
          "text": [
            "Using device: cuda\n"
          ]
        }
      ]
    },
    {
      "cell_type": "markdown",
      "source": [
        "#**2. DATASET & DATALOADER**"
      ],
      "metadata": {
        "id": "Wnl3cQA2vKNZ"
      }
    },
    {
      "cell_type": "code",
      "source": [
        "from PIL import Image\n",
        "from torch.utils.data import Dataset, DataLoader\n",
        "import torchvision.transforms as transforms\n",
        "from sklearn.model_selection import train_test_split\n",
        "import pandas as pd\n",
        "\n",
        "class JPEGDataset(Dataset):\n",
        "    def __init__(self, dataframe, root_dir, transform=None):\n",
        "        self.dataframe = dataframe\n",
        "        self.root_dir = root_dir\n",
        "        self.transform = transform\n",
        "\n",
        "    def __len__(self):\n",
        "        return len(self.dataframe)\n",
        "\n",
        "    def __getitem__(self, idx):\n",
        "        img_name = os.path.join(self.root_dir, self.dataframe.iloc[idx][\"image_name\"] + \".jpg\")\n",
        "        try:\n",
        "            image = Image.open(img_name).convert(\"RGB\")\n",
        "            if self.transform:\n",
        "                image = self.transform(image)\n",
        "            label = self.dataframe.iloc[idx][\"target\"]\n",
        "            return image, torch.tensor(label, dtype=torch.float32)\n",
        "        except Exception as e:\n",
        "            print(f\"Error loading {img_name}: {str(e)}\")\n",
        "            dummy_img = torch.zeros(3, IMAGE_SIZE, IMAGE_SIZE)\n",
        "            return dummy_img, torch.tensor(0.0, dtype=torch.float32)\n",
        "\n",
        "def prepare_data_with_test(csv_path, image_dir, test_size=0.1, val_size=0.1):\n",
        "    df = pd.read_csv(csv_path)\n",
        "    existing = set(os.path.splitext(f)[0] for f in os.listdir(image_dir) if f.endswith(\".jpg\"))\n",
        "    df = df[df[\"image_name\"].isin(existing)][[\"image_name\", \"target\"]].dropna()\n",
        "\n",
        "    train_val_df, test_df = train_test_split(df, test_size=test_size, random_state=42, stratify=df[\"target\"])\n",
        "    val_frac = val_size / (1 - test_size)\n",
        "    train_df, val_df = train_test_split(train_val_df, test_size=val_frac, random_state=42, stratify=train_val_df[\"target\"])\n",
        "\n",
        "    transform = transforms.Compose([\n",
        "        transforms.Resize((IMAGE_SIZE, IMAGE_SIZE)),\n",
        "        transforms.ToTensor(),\n",
        "        transforms.Normalize(mean=[0.485, 0.456, 0.406], std=[0.229, 0.224, 0.225])\n",
        "    ])\n",
        "\n",
        "    train_loader = DataLoader(JPEGDataset(train_df, image_dir, transform), batch_size=BATCH_SIZE, shuffle=True)\n",
        "    val_loader = DataLoader(JPEGDataset(val_df, image_dir, transform), batch_size=BATCH_SIZE)\n",
        "    test_loader = DataLoader(JPEGDataset(test_df, image_dir, transform), batch_size=BATCH_SIZE)\n",
        "    full_train_loader = DataLoader(JPEGDataset(train_val_df, image_dir, transform), batch_size=BATCH_SIZE, shuffle=True)\n",
        "\n",
        "    return train_loader, val_loader, test_loader, full_train_loader, train_val_df, test_df\n"
      ],
      "metadata": {
        "id": "t5FSjO78uZt2"
      },
      "execution_count": null,
      "outputs": []
    },
    {
      "cell_type": "markdown",
      "source": [
        "#**3. MODEL TRAINING LOOP**"
      ],
      "metadata": {
        "id": "GxxZRSLIvVEq"
      }
    },
    {
      "cell_type": "code",
      "source": [
        "#6. MODEL SETUP (OPTIMIZED)\n",
        "def setup_model():\n",
        "    model = timm.create_model('efficientnet_b0', pretrained=True, num_classes=1)\n",
        "    model = model.to(DEVICE)\n",
        "\n",
        "    criterion = nn.BCEWithLogitsLoss()\n",
        "    optimizer = optim.AdamW(model.parameters(), lr=1e-4, weight_decay=1e-5)\n",
        "    scheduler = optim.lr_scheduler.ReduceLROnPlateau(optimizer, mode='min', patience=1, verbose=True)\n",
        "\n",
        "    return model, criterion, optimizer, scheduler\n",
        "\n",
        "#7. MODEL TRAIN (OPTIMIZED)\n",
        "def train_model(model, criterion, optimizer, scheduler, train_loader, val_loader, path, epochs=EPOCHS):\n",
        "    best_val_loss = float('inf')\n",
        "\n",
        "    for epoch in range(epochs):\n",
        "        model.train()\n",
        "        total_loss = 0.0\n",
        "\n",
        "        for images, labels in train_loader:\n",
        "            images, labels = images.to(DEVICE), labels.to(DEVICE)\n",
        "            optimizer.zero_grad()\n",
        "            outputs = model(images).squeeze()\n",
        "            loss = criterion(outputs, labels)\n",
        "            loss.backward()\n",
        "            optimizer.step()\n",
        "            total_loss += loss.item() * images.size(0)\n",
        "\n",
        "        avg_train_loss = total_loss / len(train_loader.dataset)\n",
        "        val_loss, val_metrics = evaluate_model(model, criterion, val_loader)\n",
        "        scheduler.step(val_loss)\n",
        "\n",
        "        print(f\"Epoch {epoch+1}/{epochs} | Train Loss: {avg_train_loss:.4f} | \"\n",
        "              f\"Val Loss: {val_loss:.4f} | Acc: {val_metrics['accuracy']:.4f} | AUC: {val_metrics['auc']:.4f}\")\n",
        "\n",
        "        if val_loss < best_val_loss:\n",
        "            best_val_loss = val_loss\n",
        "\n",
        "            torch.save(model.state_dict(), path)\n",
        "            print(\"Best model saved.\")"
      ],
      "metadata": {
        "id": "kRtEy5c6uei0"
      },
      "execution_count": null,
      "outputs": []
    },
    {
      "cell_type": "markdown",
      "source": [
        "# **4. EVALUATION**"
      ],
      "metadata": {
        "id": "B6tGWP6-vkWZ"
      }
    },
    {
      "cell_type": "code",
      "source": [
        "from sklearn.metrics import accuracy_score, precision_score, recall_score, roc_auc_score, roc_curve\n",
        "import numpy as np\n",
        "\n",
        "# ==================== 8. EVALUATION (OPTIMIZED) ====================\n",
        "def evaluate_model(model, criterion, loader):\n",
        "    model.eval()\n",
        "    all_preds, all_probs, all_labels = [], [], []\n",
        "    total_loss = 0.0\n",
        "\n",
        "    with torch.no_grad():\n",
        "        for images, labels in loader:\n",
        "            images, labels = images.to(DEVICE), labels.to(DEVICE)\n",
        "            outputs = model(images).squeeze()\n",
        "            loss = criterion(outputs, labels)\n",
        "            total_loss += loss.item() * images.size(0)\n",
        "\n",
        "            probs = torch.sigmoid(outputs).cpu().numpy()\n",
        "            preds = (probs > 0.5).astype(int)\n",
        "\n",
        "            all_probs.extend(probs)\n",
        "            all_preds.extend(preds)\n",
        "            all_labels.extend(labels.cpu().numpy())\n",
        "\n",
        "    return total_loss / len(loader.dataset), {\n",
        "        'accuracy': accuracy_score(all_labels, all_preds),\n",
        "        'precision': precision_score(all_labels, all_preds, zero_division=0),\n",
        "        'recall': recall_score(all_labels, all_preds, zero_division=0),\n",
        "        'auc': roc_auc_score(all_labels, all_probs),\n",
        "        'fpr': roc_curve(all_labels, all_probs)[0],\n",
        "        'tpr': roc_curve(all_labels, all_probs)[1]\n",
        "    }"
      ],
      "metadata": {
        "id": "MadEzXpLuhAd"
      },
      "execution_count": null,
      "outputs": []
    },
    {
      "cell_type": "markdown",
      "source": [
        "# **5. MAIN EXECUTION**"
      ],
      "metadata": {
        "id": "wAofq1mGvnI5"
      }
    },
    {
      "cell_type": "code",
      "source": [
        "%%time\n",
        "train_loader, val_loader, test_loader, full_train_loader, train_val_df, test_df = prepare_data_with_test(CSV_PATH, IMAGE_DIR)\n",
        "\n",
        "MODEL_LOAD_PATH = '/content/drive/MyDrive/efficientnet_model_Minh.pth'\n",
        "\n",
        "print(\"Step 1: Train model on train/val split\")\n",
        "model, criterion, optimizer, scheduler = setup_model()\n",
        "train_model(model, criterion, optimizer, scheduler, train_loader, val_loader, MODEL_LOAD_PATH)\n",
        "\n",
        "print(\"Step 2: Retrain on full train + val set\")\n",
        "model, criterion, optimizer, scheduler = setup_model()\n",
        "train_model(model, criterion, optimizer, scheduler, full_train_loader, val_loader, MODEL_LOAD_PATH)\n",
        "\n",
        "print(\"Step 3: Evaluate on test set\")\n",
        "model.load_state_dict(torch.load(MODEL_LOAD_PATH))\n",
        "test_loss, test_metrics = evaluate_model(model, criterion, test_loader)\n",
        "\n",
        "print(\"\\nFinal Test Results\")\n",
        "print(f\"Loss:     {test_loss:.4f}\")\n",
        "print(f\"Accuracy: {test_metrics['accuracy']:.4f}\")\n",
        "print(f\"Precision:{test_metrics['precision']:.4f}\")\n",
        "print(f\"Recall:   {test_metrics['recall']:.4f}\")\n",
        "print(f\"AUC:      {test_metrics['auc']:.4f}\")\n",
        "\n",
        "plt.figure(figsize=(8, 6))\n",
        "plt.plot(test_metrics['fpr'], test_metrics['tpr'], label=f'AUC = {test_metrics[\"auc\"]:.4f}')\n",
        "plt.plot([0, 1], [0, 1], 'k--')\n",
        "plt.xlabel('False Positive Rate')\n",
        "plt.ylabel('True Positive Rate')\n",
        "plt.title('ROC Curve')\n",
        "plt.legend()\n",
        "# plt.savefig('/content/drive/MyDrive/efficientnet_roc_curve.png')\n",
        "plt.show()\n"
      ],
      "metadata": {
        "colab": {
          "base_uri": "https://localhost:8080/",
          "height": 1000,
          "referenced_widgets": [
            "9124ce762c3841dc96b93fb466102971",
            "6ce6b2c1aef1472fbe0f3892f20a3312",
            "3943b1b0791b44b78933ef6306f80036",
            "97179706568e413c968ebd8f46970984",
            "e1cb56dc853747179467bf1d888cd595",
            "47808ba010f74f4fb558a4a559f91cb2",
            "6c8dd8f05a814ec49d0de6509b56052b",
            "5acb97a1bf9f4a7391368e3e4222abbb",
            "df263f60a27c48feb75cc9dda98db48e",
            "956f0dec8e4541a78cf9455e7c805309",
            "9538359b72ca4eff866b71869f4bcdcd"
          ]
        },
        "collapsed": true,
        "id": "BM9bYXqNupKY",
        "outputId": "ceee4e46-9c0c-43f4-89cc-4064e72c19b8"
      },
      "execution_count": null,
      "outputs": [
        {
          "output_type": "stream",
          "name": "stdout",
          "text": [
            "Step 1: Train model on train/val split\n"
          ]
        },
        {
          "output_type": "display_data",
          "data": {
            "text/plain": [
              "model.safetensors:   0%|          | 0.00/21.4M [00:00<?, ?B/s]"
            ],
            "application/vnd.jupyter.widget-view+json": {
              "version_major": 2,
              "version_minor": 0,
              "model_id": "9124ce762c3841dc96b93fb466102971"
            }
          },
          "metadata": {}
        },
        {
          "output_type": "stream",
          "name": "stdout",
          "text": [
            "Epoch 1/15 | Train Loss: 1.7979 | Val Loss: 1.4197 | Acc: 0.7600 | AUC: 0.8123\n",
            "Best model saved.\n",
            "Epoch 2/15 | Train Loss: 0.4218 | Val Loss: 1.2879 | Acc: 0.7500 | AUC: 0.8058\n",
            "Best model saved.\n",
            "Epoch 3/15 | Train Loss: 0.1043 | Val Loss: 1.3564 | Acc: 0.7300 | AUC: 0.8106\n",
            "Epoch 4/15 | Train Loss: 0.0990 | Val Loss: 1.3460 | Acc: 0.7500 | AUC: 0.8163\n",
            "Epoch 5/15 | Train Loss: 0.0827 | Val Loss: 1.3959 | Acc: 0.7500 | AUC: 0.8067\n",
            "Epoch 6/15 | Train Loss: 0.0525 | Val Loss: 1.3269 | Acc: 0.7500 | AUC: 0.8117\n",
            "Epoch 7/15 | Train Loss: 0.0451 | Val Loss: 1.3099 | Acc: 0.7600 | AUC: 0.8154\n",
            "Epoch 8/15 | Train Loss: 0.0602 | Val Loss: 1.3105 | Acc: 0.7400 | AUC: 0.8175\n",
            "Epoch 9/15 | Train Loss: 0.0624 | Val Loss: 1.3852 | Acc: 0.7600 | AUC: 0.8137\n",
            "Epoch 10/15 | Train Loss: 0.0633 | Val Loss: 1.3905 | Acc: 0.7600 | AUC: 0.8167\n",
            "Epoch 11/15 | Train Loss: 0.0504 | Val Loss: 1.3777 | Acc: 0.7500 | AUC: 0.8100\n",
            "Epoch 12/15 | Train Loss: 0.0586 | Val Loss: 1.3556 | Acc: 0.7500 | AUC: 0.8131\n",
            "Epoch 13/15 | Train Loss: 0.0660 | Val Loss: 1.3258 | Acc: 0.7500 | AUC: 0.8154\n",
            "Epoch 14/15 | Train Loss: 0.0344 | Val Loss: 1.3863 | Acc: 0.7500 | AUC: 0.8158\n",
            "Epoch 15/15 | Train Loss: 0.0636 | Val Loss: 1.3155 | Acc: 0.7400 | AUC: 0.8117\n",
            "Step 2: Retrain on full train + val set\n",
            "Epoch 1/15 | Train Loss: 2.0588 | Val Loss: 0.4919 | Acc: 0.8800 | AUC: 0.9379\n",
            "Best model saved.\n",
            "Epoch 2/15 | Train Loss: 0.4665 | Val Loss: 0.0389 | Acc: 0.9800 | AUC: 0.9992\n",
            "Best model saved.\n",
            "Epoch 3/15 | Train Loss: 0.2292 | Val Loss: 0.0150 | Acc: 1.0000 | AUC: 1.0000\n",
            "Best model saved.\n",
            "Epoch 4/15 | Train Loss: 0.1099 | Val Loss: 0.0052 | Acc: 1.0000 | AUC: 1.0000\n",
            "Best model saved.\n",
            "Epoch 5/15 | Train Loss: 0.1074 | Val Loss: 0.0012 | Acc: 1.0000 | AUC: 1.0000\n",
            "Best model saved.\n",
            "Epoch 6/15 | Train Loss: 0.0597 | Val Loss: 0.0009 | Acc: 1.0000 | AUC: 1.0000\n",
            "Best model saved.\n",
            "Epoch 7/15 | Train Loss: 0.0448 | Val Loss: 0.0012 | Acc: 1.0000 | AUC: 1.0000\n",
            "Epoch 8/15 | Train Loss: 0.0410 | Val Loss: 0.0040 | Acc: 1.0000 | AUC: 1.0000\n",
            "Epoch 9/15 | Train Loss: 0.0268 | Val Loss: 0.0037 | Acc: 1.0000 | AUC: 1.0000\n",
            "Epoch 10/15 | Train Loss: 0.0380 | Val Loss: 0.0059 | Acc: 1.0000 | AUC: 1.0000\n",
            "Epoch 11/15 | Train Loss: 0.0186 | Val Loss: 0.0014 | Acc: 1.0000 | AUC: 1.0000\n",
            "Epoch 12/15 | Train Loss: 0.0245 | Val Loss: 0.0030 | Acc: 1.0000 | AUC: 1.0000\n",
            "Epoch 13/15 | Train Loss: 0.0324 | Val Loss: 0.0050 | Acc: 1.0000 | AUC: 1.0000\n",
            "Epoch 14/15 | Train Loss: 0.0400 | Val Loss: 0.0031 | Acc: 1.0000 | AUC: 1.0000\n",
            "Epoch 15/15 | Train Loss: 0.0297 | Val Loss: 0.0016 | Acc: 1.0000 | AUC: 1.0000\n",
            "Step 3: Evaluate on test set\n",
            "\n",
            "Final Test Results\n",
            "Loss:     1.2141\n",
            "Accuracy: 0.7000\n",
            "Precision:0.6471\n",
            "Recall:   0.5500\n",
            "AUC:      0.7896\n"
          ]
        },
        {
          "output_type": "display_data",
          "data": {
            "text/plain": [
              "<Figure size 800x600 with 1 Axes>"
            ],
            "image/png": "[encoded data removed]"
          },
          "metadata": {}
        },
        {
          "output_type": "stream",
          "name": "stdout",
          "text": [
            "CPU times: user 4min 42s, sys: 2.65 s, total: 4min 45s\n",
            "Wall time: 1min 32s\n"
          ]
        }
      ]
    },
    {
      "cell_type": "markdown",
      "source": [
        "# **6. TUNING**"
      ],
      "metadata": {
        "id": "MHYj--jwv4HH"
      }
    },
    {
      "cell_type": "code",
      "source": [
        "!pip install optuna\n",
        "import optuna"
      ],
      "metadata": {
        "colab": {
          "base_uri": "https://localhost:8080/"
        },
        "collapsed": true,
        "id": "dlGVixYNv5xl",
        "outputId": "c22bddeb-6913-4115-eec4-84656228b83e"
      },
      "execution_count": null,
      "outputs": [
        {
          "output_type": "stream",
          "name": "stdout",
          "text": [
            "Collecting optuna\n",
            "  Downloading optuna-4.4.0-py3-none-any.whl.metadata (17 kB)\n",
            "Collecting alembic>=1.5.0 (from optuna)\n",
            "  Downloading alembic-1.16.2-py3-none-any.whl.metadata (7.3 kB)\n",
            "Collecting colorlog (from optuna)\n",
            "  Downloading colorlog-6.9.0-py3-none-any.whl.metadata (10 kB)\n",
            "Requirement already satisfied: numpy in /usr/local/lib/python3.11/dist-packages (from optuna) (2.0.2)\n",
            "Requirement already satisfied: packaging>=20.0 in /usr/local/lib/python3.11/dist-packages (from optuna) (24.2)\n",
            "Requirement already satisfied: sqlalchemy>=1.4.2 in /usr/local/lib/python3.11/dist-packages (from optuna) (2.0.41)\n",
            "Requirement already satisfied: tqdm in /usr/local/lib/python3.11/dist-packages (from optuna) (4.67.1)\n",
            "Requirement already satisfied: PyYAML in /usr/local/lib/python3.11/dist-packages (from optuna) (6.0.2)\n",
            "Requirement already satisfied: Mako in /usr/lib/python3/dist-packages (from alembic>=1.5.0->optuna) (1.1.3)\n",
            "Requirement already satisfied: typing-extensions>=4.12 in /usr/local/lib/python3.11/dist-packages (from alembic>=1.5.0->optuna) (4.14.0)\n",
            "Requirement already satisfied: greenlet>=1 in /usr/local/lib/python3.11/dist-packages (from sqlalchemy>=1.4.2->optuna) (3.2.3)\n",
            "Downloading optuna-4.4.0-py3-none-any.whl (395 kB)\n",
            "\u001b[?25l   \u001b[90m━━━━━━━━━━━━━━━━━━━━━━━━━━━━━━━━━━━━━━━━\u001b[0m \u001b[32m0.0/395.9 kB\u001b[0m \u001b[31m?\u001b[0m eta \u001b[36m-:--:--\u001b[0m\r\u001b[2K   \u001b[90m━━━━━━━━━━━━━━━━━━━━━━━━━━━━━━━━━━━━━━━━\u001b[0m \u001b[32m395.9/395.9 kB\u001b[0m \u001b[31m24.9 MB/s\u001b[0m eta \u001b[36m0:00:00\u001b[0m\n",
            "\u001b[?25hDownloading alembic-1.16.2-py3-none-any.whl (242 kB)\n",
            "\u001b[?25l   \u001b[90m━━━━━━━━━━━━━━━━━━━━━━━━━━━━━━━━━━━━━━━━\u001b[0m \u001b[32m0.0/242.7 kB\u001b[0m \u001b[31m?\u001b[0m eta \u001b[36m-:--:--\u001b[0m\r\u001b[2K   \u001b[90m━━━━━━━━━━━━━━━━━━━━━━━━━━━━━━━━━━━━━━━━\u001b[0m \u001b[32m242.7/242.7 kB\u001b[0m \u001b[31m19.0 MB/s\u001b[0m eta \u001b[36m0:00:00\u001b[0m\n",
            "\u001b[?25hDownloading colorlog-6.9.0-py3-none-any.whl (11 kB)\n",
            "Installing collected packages: colorlog, alembic, optuna\n",
            "Successfully installed alembic-1.16.2 colorlog-6.9.0 optuna-4.4.0\n"
          ]
        }
      ]
    },
    {
      "cell_type": "code",
      "source": [
        "%%time\n",
        "def objective(trial):\n",
        "    # hyperparameters\n",
        "    lr = trial.suggest_float(\"learning_rate\", 1e-5, 5e-4, log=True)\n",
        "    dropout = trial.suggest_float(\"dropout\", 0.1, 0.5)\n",
        "    weight_decay = trial.suggest_float(\"weight_decay\", 0, 1e-4)\n",
        "\n",
        "    # Setup model with current trial's hyperparams\n",
        "    model = timm.create_model('efficientnet_b0', pretrained=True, num_classes=1)\n",
        "    model = model.to(DEVICE)\n",
        "\n",
        "    criterion = nn.BCEWithLogitsLoss()\n",
        "    optimizer = optim.AdamW(model.parameters(), lr=lr, weight_decay=weight_decay)\n",
        "\n",
        "    # Train for 5 epochs for quick evaluation\n",
        "    for epoch in range(5):\n",
        "        model.train()\n",
        "        for images, labels in train_loader:\n",
        "            images, labels = images.to(DEVICE), labels.to(DEVICE)\n",
        "            optimizer.zero_grad()\n",
        "            outputs = model(images).squeeze()\n",
        "            loss = criterion(outputs, labels)\n",
        "            loss.backward()\n",
        "            optimizer.step()\n",
        "\n",
        "    # Evaluate on validation set\n",
        "    val_loss, val_metrics = evaluate_model(model, criterion, val_loader)\n",
        "    return val_metrics[\"auc\"]\n",
        "\n",
        "study = optuna.create_study(direction=\"maximize\")  # maximize AUC\n",
        "study.optimize(objective, n_trials=10)\n",
        "\n",
        "print(\"\\nBest Trial:\")\n",
        "print(study.best_trial)"
      ],
      "metadata": {
        "colab": {
          "base_uri": "https://localhost:8080/"
        },
        "collapsed": true,
        "id": "NH1JoMdwv1lD",
        "outputId": "8c9c51a3-ccb5-4c53-af9e-4b695dce23d2"
      },
      "execution_count": null,
      "outputs": [
        {
          "output_type": "stream",
          "name": "stderr",
          "text": [
            "[I 2025-06-25 03:31:33,171] A new study created in memory with name: no-name-4a92a496-0613-4fd9-b7fd-2da7b57bfb53\n",
            "[I 2025-06-25 03:31:43,971] Trial 0 finished with value: 0.6297916666666667 and parameters: {'learning_rate': 2.637162535143306e-05, 'dropout': 0.33010168330774203, 'weight_decay': 9.53044564107175e-05}. Best is trial 0 with value: 0.6297916666666667.\n",
            "[I 2025-06-25 03:31:54,478] Trial 1 finished with value: 0.8102083333333333 and parameters: {'learning_rate': 0.00019770851064535076, 'dropout': 0.20296749847856202, 'weight_decay': 4.9374457947537854e-05}. Best is trial 1 with value: 0.8102083333333333.\n",
            "[I 2025-06-25 03:32:06,262] Trial 2 finished with value: 0.8095833333333333 and parameters: {'learning_rate': 0.00024053507614413424, 'dropout': 0.3155145788104121, 'weight_decay': 2.6598521710793068e-05}. Best is trial 1 with value: 0.8102083333333333.\n",
            "[I 2025-06-25 03:32:17,349] Trial 3 finished with value: 0.7960416666666666 and parameters: {'learning_rate': 0.00018517243506806723, 'dropout': 0.3799542300053851, 'weight_decay': 1.209748761180889e-05}. Best is trial 1 with value: 0.8102083333333333.\n",
            "[I 2025-06-25 03:32:28,087] Trial 4 finished with value: 0.7870833333333335 and parameters: {'learning_rate': 0.0003020208724098923, 'dropout': 0.199332362738312, 'weight_decay': 9.280343218618625e-05}. Best is trial 1 with value: 0.8102083333333333.\n",
            "[I 2025-06-25 03:32:38,993] Trial 5 finished with value: 0.6645833333333333 and parameters: {'learning_rate': 1.2248879741953099e-05, 'dropout': 0.21519973800923486, 'weight_decay': 2.4868710060421942e-05}. Best is trial 1 with value: 0.8102083333333333.\n",
            "[I 2025-06-25 03:32:49,552] Trial 6 finished with value: 0.7679166666666666 and parameters: {'learning_rate': 6.60126153160273e-05, 'dropout': 0.15708834764867174, 'weight_decay': 3.578262747933743e-05}. Best is trial 1 with value: 0.8102083333333333.\n",
            "[I 2025-06-25 03:33:00,279] Trial 7 finished with value: 0.7333333333333333 and parameters: {'learning_rate': 4.802990230522721e-05, 'dropout': 0.49298809578733305, 'weight_decay': 6.069849728465677e-05}. Best is trial 1 with value: 0.8102083333333333.\n",
            "[I 2025-06-25 03:33:10,958] Trial 8 finished with value: 0.7491666666666668 and parameters: {'learning_rate': 4.650101018741942e-05, 'dropout': 0.41832805900738246, 'weight_decay': 8.243222707515429e-05}. Best is trial 1 with value: 0.8102083333333333.\n",
            "[I 2025-06-25 03:33:21,569] Trial 9 finished with value: 0.78 and parameters: {'learning_rate': 1.5397834036462857e-05, 'dropout': 0.24874536358567323, 'weight_decay': 2.0405921412247962e-05}. Best is trial 1 with value: 0.8102083333333333.\n"
          ]
        },
        {
          "output_type": "stream",
          "name": "stdout",
          "text": [
            "\n",
            "Best Trial:\n",
            "FrozenTrial(number=1, state=1, values=[0.8102083333333333], datetime_start=datetime.datetime(2025, 6, 25, 3, 31, 43, 972374), datetime_complete=datetime.datetime(2025, 6, 25, 3, 31, 54, 478884), params={'learning_rate': 0.00019770851064535076, 'dropout': 0.20296749847856202, 'weight_decay': 4.9374457947537854e-05}, user_attrs={}, system_attrs={}, intermediate_values={}, distributions={'learning_rate': FloatDistribution(high=0.0005, log=True, low=1e-05, step=None), 'dropout': FloatDistribution(high=0.5, log=False, low=0.1, step=None), 'weight_decay': FloatDistribution(high=0.0001, log=False, low=0.0, step=None)}, trial_id=1, value=None)\n",
            "CPU times: user 6min 41s, sys: 1.94 s, total: 6min 43s\n",
            "Wall time: 1min 48s\n"
          ]
        }
      ]
    },
    {
      "cell_type": "markdown",
      "source": [
        "# **7. RETRAIN WITH BEST PARAMS**"
      ],
      "metadata": {
        "id": "_JjH-VQxwAUE"
      }
    },
    {
      "cell_type": "code",
      "source": [
        "%%time\n",
        "# ==================== CUSTOM SETUP WITH BEST PARAMS ====================\n",
        "def setup_model_with_custom_params(lr, dropout, weight_decay):\n",
        "    model = timm.create_model('efficientnet_b0', pretrained=True, num_classes=1, drop_rate=dropout)\n",
        "    model = model.to(DEVICE)\n",
        "\n",
        "    criterion = nn.BCEWithLogitsLoss()\n",
        "    optimizer = optim.AdamW(model.parameters(), lr=lr, weight_decay=weight_decay)\n",
        "    scheduler = optim.lr_scheduler.ReduceLROnPlateau(optimizer, mode='min', patience=1, verbose=True)\n",
        "\n",
        "    return model, criterion, optimizer, scheduler\n",
        "\n",
        "\n",
        "# ==================== TRAINING WITH VALIDATION + SAVE BEST ====================\n",
        "def train_model(model, criterion, optimizer, scheduler, train_loader, val_loader, save_path, epochs=EPOCHS):\n",
        "    best_val_loss = float('inf')\n",
        "    os.makedirs(os.path.dirname(save_path), exist_ok=True)\n",
        "\n",
        "    for epoch in range(epochs):\n",
        "        model.train()\n",
        "        total_loss = 0.0\n",
        "\n",
        "        for images, labels in train_loader:\n",
        "            images, labels = images.to(DEVICE), labels.to(DEVICE)\n",
        "            optimizer.zero_grad()\n",
        "            outputs = model(images).squeeze()\n",
        "            loss = criterion(outputs, labels)\n",
        "            loss.backward()\n",
        "            optimizer.step()\n",
        "            total_loss += loss.item() * images.size(0)\n",
        "\n",
        "        avg_train_loss = total_loss / len(train_loader.dataset)\n",
        "        val_loss, val_metrics = evaluate_model(model, criterion, val_loader)\n",
        "        scheduler.step(val_loss)\n",
        "\n",
        "        print(f\"Epoch {epoch+1}/{epochs} | Train Loss: {avg_train_loss:.4f} | \"\n",
        "              f\"Val Loss: {val_loss:.4f} | Acc: {val_metrics['accuracy']:.4f} | AUC: {val_metrics['auc']:.4f}\")\n",
        "\n",
        "        if val_loss < best_val_loss:\n",
        "            best_val_loss = val_loss\n",
        "            torch.save(model.state_dict(), save_path)\n",
        "            print(\"Best model saved!\")\n",
        "\n",
        "# ==================== EXECUTION WITH BEST PARAMS ====================\n",
        "\n",
        "# Get best hyperparameters from Optuna study\n",
        "best_params = study.best_trial.params\n",
        "MODEL_SAVE_PATH = '/content/drive/MyDrive/efficientnet_model_Minh.pth'\n",
        "\n",
        "# Step 1: Prepare data\n",
        "train_loader, val_loader, test_loader, full_train_loader, train_val_df, test_df = prepare_data_with_test(CSV_PATH, IMAGE_DIR)\n",
        "\n",
        "# Step 2: Train on train/val split\n",
        "print(\"Step 1: Training with best hyperparameters on train/val split\")\n",
        "model, criterion, optimizer, scheduler = setup_model_with_custom_params(\n",
        "    lr=best_params['learning_rate'],\n",
        "    dropout=best_params['dropout'],\n",
        "    weight_decay=best_params['weight_decay']\n",
        ")\n",
        "train_model(model, criterion, optimizer, scheduler, train_loader, val_loader, save_path=MODEL_SAVE_PATH)\n",
        "\n",
        "# Step 3: Retrain on full train+val\n",
        "print(\"\\nStep 2: Retraining on full train + val set\")\n",
        "model, criterion, optimizer, scheduler = setup_model_with_custom_params(\n",
        "    lr=best_params['learning_rate'],\n",
        "    dropout=best_params['dropout'],\n",
        "    weight_decay=best_params['weight_decay']\n",
        ")\n",
        "train_model(model, criterion, optimizer, scheduler, full_train_loader, val_loader, save_path=MODEL_SAVE_PATH)\n",
        "\n",
        "# Step 4: Evaluate\n",
        "print(\"\\n Step 3: Evaluate on test set\")\n",
        "model.load_state_dict(torch.load(MODEL_SAVE_PATH))\n",
        "test_loss, test_metrics = evaluate_model(model, criterion, test_loader)\n",
        "\n",
        "print(\"\\n Final Test Results (With Best Hyperparameters)\")\n",
        "print(f\"Loss:     {test_loss:.4f}\")\n",
        "print(f\"Accuracy: {test_metrics['accuracy']:.4f}\")\n",
        "print(f\"Precision:{test_metrics['precision']:.4f}\")\n",
        "print(f\"Recall:   {test_metrics['recall']:.4f}\")\n",
        "print(f\"AUC:      {test_metrics['auc']:.4f}\")\n",
        "\n",
        "plt.figure(figsize=(8, 6))\n",
        "plt.plot(test_metrics['fpr'], test_metrics['tpr'], label=f'AUC = {test_metrics[\"auc\"]:.4f}')\n",
        "plt.plot([0, 1], [0, 1], 'k--')\n",
        "plt.xlabel('False Positive Rate')\n",
        "plt.ylabel('True Positive Rate')\n",
        "plt.title('ROC Curve')\n",
        "plt.legend()\n",
        "plt.show()\n"
      ],
      "metadata": {
        "colab": {
          "base_uri": "https://localhost:8080/",
          "height": 1000
        },
        "id": "AkP-N9dDwAgd",
        "outputId": "d62be536-90d0-4fcb-a2de-4e537cfaf414"
      },
      "execution_count": null,
      "outputs": [
        {
          "output_type": "stream",
          "name": "stdout",
          "text": [
            "🔧 Step 1: Training with best hyperparameters on train/val split\n",
            "Epoch 1/15 | Train Loss: 2.2519 | Val Loss: 1.3106 | Acc: 0.7100 | AUC: 0.7938\n",
            "Best model saved!\n",
            "Epoch 2/15 | Train Loss: 0.6280 | Val Loss: 1.4706 | Acc: 0.7100 | AUC: 0.7892\n",
            "Epoch 3/15 | Train Loss: 0.2694 | Val Loss: 1.4210 | Acc: 0.7700 | AUC: 0.8204\n",
            "Epoch 4/15 | Train Loss: 0.2257 | Val Loss: 1.3487 | Acc: 0.7600 | AUC: 0.8310\n",
            "Epoch 5/15 | Train Loss: 0.1239 | Val Loss: 1.3009 | Acc: 0.7600 | AUC: 0.8385\n",
            "Best model saved!\n",
            "Epoch 6/15 | Train Loss: 0.1213 | Val Loss: 1.3432 | Acc: 0.7400 | AUC: 0.8292\n",
            "Epoch 7/15 | Train Loss: 0.0888 | Val Loss: 1.3317 | Acc: 0.7400 | AUC: 0.8348\n",
            "Epoch 8/15 | Train Loss: 0.0857 | Val Loss: 1.3982 | Acc: 0.7400 | AUC: 0.8290\n",
            "Epoch 9/15 | Train Loss: 0.0814 | Val Loss: 1.3717 | Acc: 0.7400 | AUC: 0.8317\n",
            "Epoch 10/15 | Train Loss: 0.0978 | Val Loss: 1.3460 | Acc: 0.7400 | AUC: 0.8342\n",
            "Epoch 11/15 | Train Loss: 0.1182 | Val Loss: 1.3237 | Acc: 0.7400 | AUC: 0.8362\n",
            "Epoch 12/15 | Train Loss: 0.1150 | Val Loss: 1.3673 | Acc: 0.7300 | AUC: 0.8333\n",
            "Epoch 13/15 | Train Loss: 0.1260 | Val Loss: 1.3933 | Acc: 0.7500 | AUC: 0.8285\n",
            "Epoch 14/15 | Train Loss: 0.1200 | Val Loss: 1.3952 | Acc: 0.7500 | AUC: 0.8317\n",
            "Epoch 15/15 | Train Loss: 0.0728 | Val Loss: 1.3958 | Acc: 0.7300 | AUC: 0.8358\n",
            "\n",
            "Step 2: Retraining on full train + val set\n",
            "Epoch 1/15 | Train Loss: 2.0818 | Val Loss: 0.5209 | Acc: 0.9000 | AUC: 0.9537\n",
            "Best model saved!\n",
            "Epoch 2/15 | Train Loss: 0.6411 | Val Loss: 0.1465 | Acc: 0.9600 | AUC: 0.9929\n",
            "Best model saved!\n",
            "Epoch 3/15 | Train Loss: 0.3281 | Val Loss: 0.0382 | Acc: 0.9800 | AUC: 0.9992\n",
            "Best model saved!\n",
            "Epoch 4/15 | Train Loss: 0.2202 | Val Loss: 0.0228 | Acc: 0.9900 | AUC: 1.0000\n",
            "Best model saved!\n",
            "Epoch 5/15 | Train Loss: 0.2497 | Val Loss: 0.0453 | Acc: 0.9900 | AUC: 1.0000\n",
            "Epoch 6/15 | Train Loss: 0.1877 | Val Loss: 0.0606 | Acc: 0.9900 | AUC: 0.9992\n",
            "Epoch 7/15 | Train Loss: 0.0822 | Val Loss: 0.0083 | Acc: 1.0000 | AUC: 1.0000\n",
            "Best model saved!\n",
            "Epoch 8/15 | Train Loss: 0.1397 | Val Loss: 0.0020 | Acc: 1.0000 | AUC: 1.0000\n",
            "Best model saved!\n",
            "Epoch 9/15 | Train Loss: 0.0470 | Val Loss: 0.0014 | Acc: 1.0000 | AUC: 1.0000\n",
            "Best model saved!\n",
            "Epoch 10/15 | Train Loss: 0.0683 | Val Loss: 0.0004 | Acc: 1.0000 | AUC: 1.0000\n",
            "Best model saved!\n",
            "Epoch 11/15 | Train Loss: 0.0694 | Val Loss: 0.0011 | Acc: 1.0000 | AUC: 1.0000\n",
            "Epoch 12/15 | Train Loss: 0.0525 | Val Loss: 0.0009 | Acc: 1.0000 | AUC: 1.0000\n",
            "Epoch 13/15 | Train Loss: 0.0613 | Val Loss: 0.0006 | Acc: 1.0000 | AUC: 1.0000\n",
            "Epoch 14/15 | Train Loss: 0.0330 | Val Loss: 0.0003 | Acc: 1.0000 | AUC: 1.0000\n",
            "Best model saved!\n",
            "Epoch 15/15 | Train Loss: 0.0540 | Val Loss: 0.0004 | Acc: 1.0000 | AUC: 1.0000\n",
            "\n",
            " Step 3: Evaluate on test set\n",
            "\n",
            " Final Test Results (With Best Hyperparameters)\n",
            "Loss:     1.6058\n",
            "Accuracy: 0.7200\n",
            "Precision:0.6500\n",
            "Recall:   0.6500\n",
            "AUC:      0.8140\n"
          ]
        },
        {
          "output_type": "display_data",
          "data": {
            "text/plain": [
              "<Figure size 800x600 with 1 Axes>"
            ],
            "image/png": "[encoded data removed]"
          },
          "metadata": {}
        },
        {
          "output_type": "stream",
          "name": "stdout",
          "text": [
            "CPU times: user 4min 45s, sys: 2.67 s, total: 4min 47s\n",
            "Wall time: 1min 20s\n"
          ]
        }
      ]
    }
  ]
}
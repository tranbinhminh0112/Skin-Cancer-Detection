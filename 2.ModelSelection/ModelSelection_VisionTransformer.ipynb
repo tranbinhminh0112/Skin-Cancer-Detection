{
  "nbformat": 4,
  "nbformat_minor": 0,
  "metadata": {
    "colab": {
      "provenance": [],
      "gpuType": "A100",
      "machine_shape": "hm"
    },
    "kernelspec": {
      "name": "python3",
      "display_name": "Python 3"
    },
    "language_info": {
      "name": "python"
    },
    "accelerator": "GPU",
    "widgets": {
      "application/vnd.jupyter.widget-state+json": {
        "80d679819b8d498ca8738b1ef666fdb5": {
          "model_module": "@jupyter-widgets/controls",
          "model_name": "HBoxModel",
          "model_module_version": "1.5.0",
          "state": {
            "_dom_classes": [],
            "_model_module": "@jupyter-widgets/controls",
            "_model_module_version": "1.5.0",
            "_model_name": "HBoxModel",
            "_view_count": null,
            "_view_module": "@jupyter-widgets/controls",
            "_view_module_version": "1.5.0",
            "_view_name": "HBoxView",
            "box_style": "",
            "children": [
              "IPY_MODEL_88818a26c76a4bf3a6fd980ace569bf7",
              "IPY_MODEL_8eae26a4d1fc4edd935bc35674774c84",
              "IPY_MODEL_de4f1a42b2cd4b7690882ba28a3f66a8"
            ],
            "layout": "IPY_MODEL_ac91c20074ea4f70a99949eb40d4679c"
          }
        },
        "88818a26c76a4bf3a6fd980ace569bf7": {
          "model_module": "@jupyter-widgets/controls",
          "model_name": "HTMLModel",
          "model_module_version": "1.5.0",
          "state": {
            "_dom_classes": [],
            "_model_module": "@jupyter-widgets/controls",
            "_model_module_version": "1.5.0",
            "_model_name": "HTMLModel",
            "_view_count": null,
            "_view_module": "@jupyter-widgets/controls",
            "_view_module_version": "1.5.0",
            "_view_name": "HTMLView",
            "description": "",
            "description_tooltip": null,
            "layout": "IPY_MODEL_8395c7fadf224ba7b82bc332e5bbd2f9",
            "placeholder": "​",
            "style": "IPY_MODEL_58797f912c4a457998c2dfeab0d12fc1",
            "value": "model.safetensors: 100%"
          }
        },
        "8eae26a4d1fc4edd935bc35674774c84": {
          "model_module": "@jupyter-widgets/controls",
          "model_name": "FloatProgressModel",
          "model_module_version": "1.5.0",
          "state": {
            "_dom_classes": [],
            "_model_module": "@jupyter-widgets/controls",
            "_model_module_version": "1.5.0",
            "_model_name": "FloatProgressModel",
            "_view_count": null,
            "_view_module": "@jupyter-widgets/controls",
            "_view_module_version": "1.5.0",
            "_view_name": "ProgressView",
            "bar_style": "success",
            "description": "",
            "description_tooltip": null,
            "layout": "IPY_MODEL_7284391f4e0545a1820681654b148660",
            "max": 346284714,
            "min": 0,
            "orientation": "horizontal",
            "style": "IPY_MODEL_e1b0de00d7cd4815a388af469f20dde9",
            "value": 346284714
          }
        },
        "de4f1a42b2cd4b7690882ba28a3f66a8": {
          "model_module": "@jupyter-widgets/controls",
          "model_name": "HTMLModel",
          "model_module_version": "1.5.0",
          "state": {
            "_dom_classes": [],
            "_model_module": "@jupyter-widgets/controls",
            "_model_module_version": "1.5.0",
            "_model_name": "HTMLModel",
            "_view_count": null,
            "_view_module": "@jupyter-widgets/controls",
            "_view_module_version": "1.5.0",
            "_view_name": "HTMLView",
            "description": "",
            "description_tooltip": null,
            "layout": "IPY_MODEL_27ca6c98e1e54409a7f430374a83fcf9",
            "placeholder": "​",
            "style": "IPY_MODEL_369a52c6956c4f8c8607296d28772287",
            "value": " 346M/346M [00:01&lt;00:00, 265MB/s]"
          }
        },
        "ac91c20074ea4f70a99949eb40d4679c": {
          "model_module": "@jupyter-widgets/base",
          "model_name": "LayoutModel",
          "model_module_version": "1.2.0",
          "state": {
            "_model_module": "@jupyter-widgets/base",
            "_model_module_version": "1.2.0",
            "_model_name": "LayoutModel",
            "_view_count": null,
            "_view_module": "@jupyter-widgets/base",
            "_view_module_version": "1.2.0",
            "_view_name": "LayoutView",
            "align_content": null,
            "align_items": null,
            "align_self": null,
            "border": null,
            "bottom": null,
            "display": null,
            "flex": null,
            "flex_flow": null,
            "grid_area": null,
            "grid_auto_columns": null,
            "grid_auto_flow": null,
            "grid_auto_rows": null,
            "grid_column": null,
            "grid_gap": null,
            "grid_row": null,
            "grid_template_areas": null,
            "grid_template_columns": null,
            "grid_template_rows": null,
            "height": null,
            "justify_content": null,
            "justify_items": null,
            "left": null,
            "margin": null,
            "max_height": null,
            "max_width": null,
            "min_height": null,
            "min_width": null,
            "object_fit": null,
            "object_position": null,
            "order": null,
            "overflow": null,
            "overflow_x": null,
            "overflow_y": null,
            "padding": null,
            "right": null,
            "top": null,
            "visibility": null,
            "width": null
          }
        },
        "8395c7fadf224ba7b82bc332e5bbd2f9": {
          "model_module": "@jupyter-widgets/base",
          "model_name": "LayoutModel",
          "model_module_version": "1.2.0",
          "state": {
            "_model_module": "@jupyter-widgets/base",
            "_model_module_version": "1.2.0",
            "_model_name": "LayoutModel",
            "_view_count": null,
            "_view_module": "@jupyter-widgets/base",
            "_view_module_version": "1.2.0",
            "_view_name": "LayoutView",
            "align_content": null,
            "align_items": null,
            "align_self": null,
            "border": null,
            "bottom": null,
            "display": null,
            "flex": null,
            "flex_flow": null,
            "grid_area": null,
            "grid_auto_columns": null,
            "grid_auto_flow": null,
            "grid_auto_rows": null,
            "grid_column": null,
            "grid_gap": null,
            "grid_row": null,
            "grid_template_areas": null,
            "grid_template_columns": null,
            "grid_template_rows": null,
            "height": null,
            "justify_content": null,
            "justify_items": null,
            "left": null,
            "margin": null,
            "max_height": null,
            "max_width": null,
            "min_height": null,
            "min_width": null,
            "object_fit": null,
            "object_position": null,
            "order": null,
            "overflow": null,
            "overflow_x": null,
            "overflow_y": null,
            "padding": null,
            "right": null,
            "top": null,
            "visibility": null,
            "width": null
          }
        },
        "58797f912c4a457998c2dfeab0d12fc1": {
          "model_module": "@jupyter-widgets/controls",
          "model_name": "DescriptionStyleModel",
          "model_module_version": "1.5.0",
          "state": {
            "_model_module": "@jupyter-widgets/controls",
            "_model_module_version": "1.5.0",
            "_model_name": "DescriptionStyleModel",
            "_view_count": null,
            "_view_module": "@jupyter-widgets/base",
            "_view_module_version": "1.2.0",
            "_view_name": "StyleView",
            "description_width": ""
          }
        },
        "7284391f4e0545a1820681654b148660": {
          "model_module": "@jupyter-widgets/base",
          "model_name": "LayoutModel",
          "model_module_version": "1.2.0",
          "state": {
            "_model_module": "@jupyter-widgets/base",
            "_model_module_version": "1.2.0",
            "_model_name": "LayoutModel",
            "_view_count": null,
            "_view_module": "@jupyter-widgets/base",
            "_view_module_version": "1.2.0",
            "_view_name": "LayoutView",
            "align_content": null,
            "align_items": null,
            "align_self": null,
            "border": null,
            "bottom": null,
            "display": null,
            "flex": null,
            "flex_flow": null,
            "grid_area": null,
            "grid_auto_columns": null,
            "grid_auto_flow": null,
            "grid_auto_rows": null,
            "grid_column": null,
            "grid_gap": null,
            "grid_row": null,
            "grid_template_areas": null,
            "grid_template_columns": null,
            "grid_template_rows": null,
            "height": null,
            "justify_content": null,
            "justify_items": null,
            "left": null,
            "margin": null,
            "max_height": null,
            "max_width": null,
            "min_height": null,
            "min_width": null,
            "object_fit": null,
            "object_position": null,
            "order": null,
            "overflow": null,
            "overflow_x": null,
            "overflow_y": null,
            "padding": null,
            "right": null,
            "top": null,
            "visibility": null,
            "width": null
          }
        },
        "e1b0de00d7cd4815a388af469f20dde9": {
          "model_module": "@jupyter-widgets/controls",
          "model_name": "ProgressStyleModel",
          "model_module_version": "1.5.0",
          "state": {
            "_model_module": "@jupyter-widgets/controls",
            "_model_module_version": "1.5.0",
            "_model_name": "ProgressStyleModel",
            "_view_count": null,
            "_view_module": "@jupyter-widgets/base",
            "_view_module_version": "1.2.0",
            "_view_name": "StyleView",
            "bar_color": null,
            "description_width": ""
          }
        },
        "27ca6c98e1e54409a7f430374a83fcf9": {
          "model_module": "@jupyter-widgets/base",
          "model_name": "LayoutModel",
          "model_module_version": "1.2.0",
          "state": {
            "_model_module": "@jupyter-widgets/base",
            "_model_module_version": "1.2.0",
            "_model_name": "LayoutModel",
            "_view_count": null,
            "_view_module": "@jupyter-widgets/base",
            "_view_module_version": "1.2.0",
            "_view_name": "LayoutView",
            "align_content": null,
            "align_items": null,
            "align_self": null,
            "border": null,
            "bottom": null,
            "display": null,
            "flex": null,
            "flex_flow": null,
            "grid_area": null,
            "grid_auto_columns": null,
            "grid_auto_flow": null,
            "grid_auto_rows": null,
            "grid_column": null,
            "grid_gap": null,
            "grid_row": null,
            "grid_template_areas": null,
            "grid_template_columns": null,
            "grid_template_rows": null,
            "height": null,
            "justify_content": null,
            "justify_items": null,
            "left": null,
            "margin": null,
            "max_height": null,
            "max_width": null,
            "min_height": null,
            "min_width": null,
            "object_fit": null,
            "object_position": null,
            "order": null,
            "overflow": null,
            "overflow_x": null,
            "overflow_y": null,
            "padding": null,
            "right": null,
            "top": null,
            "visibility": null,
            "width": null
          }
        },
        "369a52c6956c4f8c8607296d28772287": {
          "model_module": "@jupyter-widgets/controls",
          "model_name": "DescriptionStyleModel",
          "model_module_version": "1.5.0",
          "state": {
            "_model_module": "@jupyter-widgets/controls",
            "_model_module_version": "1.5.0",
            "_model_name": "DescriptionStyleModel",
            "_view_count": null,
            "_view_module": "@jupyter-widgets/base",
            "_view_module_version": "1.2.0",
            "_view_name": "StyleView",
            "description_width": ""
          }
        }
      }
    }
  },
  "cells": [
    {
      "cell_type": "code",
      "execution_count": null,
      "metadata": {
        "id": "t80CDoIH1RMs",
        "colab": {
          "base_uri": "https://localhost:8080/"
        },
        "outputId": "d88f5857-d79d-4281-a786-61e4c10cfc39"
      },
      "outputs": [
        {
          "output_type": "stream",
          "name": "stdout",
          "text": [
            "Mounted at /content/drive\n"
          ]
        }
      ],
      "source": [
        "# Mount Google Drive for dataset storage and checkpointing\n",
        "from google.colab import drive\n",
        "import os\n",
        "import zipfile\n",
        "import random\n",
        "\n",
        "drive.mount('/content/drive')"
      ]
    },
    {
      "cell_type": "code",
      "source": [
        "import warnings\n",
        "\n",
        "# To suppress all warnings\n",
        "warnings.filterwarnings('ignore')"
      ],
      "metadata": {
        "id": "rS51ECnYMfvu"
      },
      "execution_count": null,
      "outputs": []
    },
    {
      "cell_type": "code",
      "source": [
        "# Install dependencies\n",
        "!pip install timm\n",
        "\n",
        "# Import packages\n",
        "import os\n",
        "import time\n",
        "import pandas as pd\n",
        "import torch\n",
        "import torch.nn as nn\n",
        "import torch.optim as optim\n",
        "import torchvision.transforms as transforms\n",
        "from torch.utils.data import Dataset, DataLoader\n",
        "from PIL import Image\n",
        "from sklearn.model_selection import train_test_split\n",
        "from sklearn.metrics import accuracy_score, recall_score, precision_score, roc_auc_score, roc_curve\n",
        "import matplotlib.pyplot as plt\n",
        "from datetime import datetime\n",
        "import timm  # Vision Transformer models"
      ],
      "metadata": {
        "colab": {
          "base_uri": "https://localhost:8080/"
        },
        "collapsed": true,
        "id": "VlAFs_ft-afN",
        "outputId": "dbe9e6c4-0dc5-4f9f-b87a-4cd5de3b8d10"
      },
      "execution_count": null,
      "outputs": [
        {
          "output_type": "stream",
          "name": "stdout",
          "text": [
            "Requirement already satisfied: timm in /usr/local/lib/python3.11/dist-packages (1.0.15)\n",
            "Requirement already satisfied: torch in /usr/local/lib/python3.11/dist-packages (from timm) (2.6.0+cu124)\n",
            "Requirement already satisfied: torchvision in /usr/local/lib/python3.11/dist-packages (from timm) (0.21.0+cu124)\n",
            "Requirement already satisfied: pyyaml in /usr/local/lib/python3.11/dist-packages (from timm) (6.0.2)\n",
            "Requirement already satisfied: huggingface_hub in /usr/local/lib/python3.11/dist-packages (from timm) (0.33.0)\n",
            "Requirement already satisfied: safetensors in /usr/local/lib/python3.11/dist-packages (from timm) (0.5.3)\n",
            "Requirement already satisfied: filelock in /usr/local/lib/python3.11/dist-packages (from huggingface_hub->timm) (3.18.0)\n",
            "Requirement already satisfied: fsspec>=2023.5.0 in /usr/local/lib/python3.11/dist-packages (from huggingface_hub->timm) (2025.3.2)\n",
            "Requirement already satisfied: packaging>=20.9 in /usr/local/lib/python3.11/dist-packages (from huggingface_hub->timm) (24.2)\n",
            "Requirement already satisfied: requests in /usr/local/lib/python3.11/dist-packages (from huggingface_hub->timm) (2.32.3)\n",
            "Requirement already satisfied: tqdm>=4.42.1 in /usr/local/lib/python3.11/dist-packages (from huggingface_hub->timm) (4.67.1)\n",
            "Requirement already satisfied: typing-extensions>=3.7.4.3 in /usr/local/lib/python3.11/dist-packages (from huggingface_hub->timm) (4.14.0)\n",
            "Requirement already satisfied: hf-xet<2.0.0,>=1.1.2 in /usr/local/lib/python3.11/dist-packages (from huggingface_hub->timm) (1.1.4)\n",
            "Requirement already satisfied: networkx in /usr/local/lib/python3.11/dist-packages (from torch->timm) (3.5)\n",
            "Requirement already satisfied: jinja2 in /usr/local/lib/python3.11/dist-packages (from torch->timm) (3.1.6)\n",
            "Collecting nvidia-cuda-nvrtc-cu12==12.4.127 (from torch->timm)\n",
            "  Downloading nvidia_cuda_nvrtc_cu12-12.4.127-py3-none-manylinux2014_x86_64.whl.metadata (1.5 kB)\n",
            "Collecting nvidia-cuda-runtime-cu12==12.4.127 (from torch->timm)\n",
            "  Downloading nvidia_cuda_runtime_cu12-12.4.127-py3-none-manylinux2014_x86_64.whl.metadata (1.5 kB)\n",
            "Collecting nvidia-cuda-cupti-cu12==12.4.127 (from torch->timm)\n",
            "  Downloading nvidia_cuda_cupti_cu12-12.4.127-py3-none-manylinux2014_x86_64.whl.metadata (1.6 kB)\n",
            "Collecting nvidia-cudnn-cu12==9.1.0.70 (from torch->timm)\n",
            "  Downloading nvidia_cudnn_cu12-9.1.0.70-py3-none-manylinux2014_x86_64.whl.metadata (1.6 kB)\n",
            "Collecting nvidia-cublas-cu12==12.4.5.8 (from torch->timm)\n",
            "  Downloading nvidia_cublas_cu12-12.4.5.8-py3-none-manylinux2014_x86_64.whl.metadata (1.5 kB)\n",
            "Collecting nvidia-cufft-cu12==11.2.1.3 (from torch->timm)\n",
            "  Downloading nvidia_cufft_cu12-11.2.1.3-py3-none-manylinux2014_x86_64.whl.metadata (1.5 kB)\n",
            "Collecting nvidia-curand-cu12==10.3.5.147 (from torch->timm)\n",
            "  Downloading nvidia_curand_cu12-10.3.5.147-py3-none-manylinux2014_x86_64.whl.metadata (1.5 kB)\n",
            "Collecting nvidia-cusolver-cu12==11.6.1.9 (from torch->timm)\n",
            "  Downloading nvidia_cusolver_cu12-11.6.1.9-py3-none-manylinux2014_x86_64.whl.metadata (1.6 kB)\n",
            "Collecting nvidia-cusparse-cu12==12.3.1.170 (from torch->timm)\n",
            "  Downloading nvidia_cusparse_cu12-12.3.1.170-py3-none-manylinux2014_x86_64.whl.metadata (1.6 kB)\n",
            "Requirement already satisfied: nvidia-cusparselt-cu12==0.6.2 in /usr/local/lib/python3.11/dist-packages (from torch->timm) (0.6.2)\n",
            "Requirement already satisfied: nvidia-nccl-cu12==2.21.5 in /usr/local/lib/python3.11/dist-packages (from torch->timm) (2.21.5)\n",
            "Requirement already satisfied: nvidia-nvtx-cu12==12.4.127 in /usr/local/lib/python3.11/dist-packages (from torch->timm) (12.4.127)\n",
            "Collecting nvidia-nvjitlink-cu12==12.4.127 (from torch->timm)\n",
            "  Downloading nvidia_nvjitlink_cu12-12.4.127-py3-none-manylinux2014_x86_64.whl.metadata (1.5 kB)\n",
            "Requirement already satisfied: triton==3.2.0 in /usr/local/lib/python3.11/dist-packages (from torch->timm) (3.2.0)\n",
            "Requirement already satisfied: sympy==1.13.1 in /usr/local/lib/python3.11/dist-packages (from torch->timm) (1.13.1)\n",
            "Requirement already satisfied: mpmath<1.4,>=1.1.0 in /usr/local/lib/python3.11/dist-packages (from sympy==1.13.1->torch->timm) (1.3.0)\n",
            "Requirement already satisfied: numpy in /usr/local/lib/python3.11/dist-packages (from torchvision->timm) (2.0.2)\n",
            "Requirement already satisfied: pillow!=8.3.*,>=5.3.0 in /usr/local/lib/python3.11/dist-packages (from torchvision->timm) (11.2.1)\n",
            "Requirement already satisfied: MarkupSafe>=2.0 in /usr/local/lib/python3.11/dist-packages (from jinja2->torch->timm) (3.0.2)\n",
            "Requirement already satisfied: charset-normalizer<4,>=2 in /usr/local/lib/python3.11/dist-packages (from requests->huggingface_hub->timm) (3.4.2)\n",
            "Requirement already satisfied: idna<4,>=2.5 in /usr/local/lib/python3.11/dist-packages (from requests->huggingface_hub->timm) (3.10)\n",
            "Requirement already satisfied: urllib3<3,>=1.21.1 in /usr/local/lib/python3.11/dist-packages (from requests->huggingface_hub->timm) (2.4.0)\n",
            "Requirement already satisfied: certifi>=2017.4.17 in /usr/local/lib/python3.11/dist-packages (from requests->huggingface_hub->timm) (2025.6.15)\n",
            "Downloading nvidia_cublas_cu12-12.4.5.8-py3-none-manylinux2014_x86_64.whl (363.4 MB)\n",
            "\u001b[2K   \u001b[90m━━━━━━━━━━━━━━━━━━━━━━━━━━━━━━━━━━━━━━━━\u001b[0m \u001b[32m363.4/363.4 MB\u001b[0m \u001b[31m5.3 MB/s\u001b[0m eta \u001b[36m0:00:00\u001b[0m\n",
            "\u001b[?25hDownloading nvidia_cuda_cupti_cu12-12.4.127-py3-none-manylinux2014_x86_64.whl (13.8 MB)\n",
            "\u001b[2K   \u001b[90m━━━━━━━━━━━━━━━━━━━━━━━━━━━━━━━━━━━━━━━━\u001b[0m \u001b[32m13.8/13.8 MB\u001b[0m \u001b[31m115.2 MB/s\u001b[0m eta \u001b[36m0:00:00\u001b[0m\n",
            "\u001b[?25hDownloading nvidia_cuda_nvrtc_cu12-12.4.127-py3-none-manylinux2014_x86_64.whl (24.6 MB)\n",
            "\u001b[2K   \u001b[90m━━━━━━━━━━━━━━━━━━━━━━━━━━━━━━━━━━━━━━━━\u001b[0m \u001b[32m24.6/24.6 MB\u001b[0m \u001b[31m94.6 MB/s\u001b[0m eta \u001b[36m0:00:00\u001b[0m\n",
            "\u001b[?25hDownloading nvidia_cuda_runtime_cu12-12.4.127-py3-none-manylinux2014_x86_64.whl (883 kB)\n",
            "\u001b[2K   \u001b[90m━━━━━━━━━━━━━━━━━━━━━━━━━━━━━━━━━━━━━━━━\u001b[0m \u001b[32m883.7/883.7 kB\u001b[0m \u001b[31m55.8 MB/s\u001b[0m eta \u001b[36m0:00:00\u001b[0m\n",
            "\u001b[?25hDownloading nvidia_cudnn_cu12-9.1.0.70-py3-none-manylinux2014_x86_64.whl (664.8 MB)\n",
            "\u001b[2K   \u001b[90m━━━━━━━━━━━━━━━━━━━━━━━━━━━━━━━━━━━━━━━━\u001b[0m \u001b[32m664.8/664.8 MB\u001b[0m \u001b[31m1.7 MB/s\u001b[0m eta \u001b[36m0:00:00\u001b[0m\n",
            "\u001b[?25hDownloading nvidia_cufft_cu12-11.2.1.3-py3-none-manylinux2014_x86_64.whl (211.5 MB)\n",
            "\u001b[2K   \u001b[90m━━━━━━━━━━━━━━━━━━━━━━━━━━━━━━━━━━━━━━━━\u001b[0m \u001b[32m211.5/211.5 MB\u001b[0m \u001b[31m11.3 MB/s\u001b[0m eta \u001b[36m0:00:00\u001b[0m\n",
            "\u001b[?25hDownloading nvidia_curand_cu12-10.3.5.147-py3-none-manylinux2014_x86_64.whl (56.3 MB)\n",
            "\u001b[2K   \u001b[90m━━━━━━━━━━━━━━━━━━━━━━━━━━━━━━━━━━━━━━━━\u001b[0m \u001b[32m56.3/56.3 MB\u001b[0m \u001b[31m41.9 MB/s\u001b[0m eta \u001b[36m0:00:00\u001b[0m\n",
            "\u001b[?25hDownloading nvidia_cusolver_cu12-11.6.1.9-py3-none-manylinux2014_x86_64.whl (127.9 MB)\n",
            "\u001b[2K   \u001b[90m━━━━━━━━━━━━━━━━━━━━━━━━━━━━━━━━━━━━━━━━\u001b[0m \u001b[32m127.9/127.9 MB\u001b[0m \u001b[31m19.1 MB/s\u001b[0m eta \u001b[36m0:00:00\u001b[0m\n",
            "\u001b[?25hDownloading nvidia_cusparse_cu12-12.3.1.170-py3-none-manylinux2014_x86_64.whl (207.5 MB)\n",
            "\u001b[2K   \u001b[90m━━━━━━━━━━━━━━━━━━━━━━━━━━━━━━━━━━━━━━━━\u001b[0m \u001b[32m207.5/207.5 MB\u001b[0m \u001b[31m4.8 MB/s\u001b[0m eta \u001b[36m0:00:00\u001b[0m\n",
            "\u001b[?25hDownloading nvidia_nvjitlink_cu12-12.4.127-py3-none-manylinux2014_x86_64.whl (21.1 MB)\n",
            "\u001b[2K   \u001b[90m━━━━━━━━━━━━━━━━━━━━━━━━━━━━━━━━━━━━━━━━\u001b[0m \u001b[32m21.1/21.1 MB\u001b[0m \u001b[31m105.7 MB/s\u001b[0m eta \u001b[36m0:00:00\u001b[0m\n",
            "\u001b[?25hInstalling collected packages: nvidia-nvjitlink-cu12, nvidia-curand-cu12, nvidia-cufft-cu12, nvidia-cuda-runtime-cu12, nvidia-cuda-nvrtc-cu12, nvidia-cuda-cupti-cu12, nvidia-cublas-cu12, nvidia-cusparse-cu12, nvidia-cudnn-cu12, nvidia-cusolver-cu12\n",
            "  Attempting uninstall: nvidia-nvjitlink-cu12\n",
            "    Found existing installation: nvidia-nvjitlink-cu12 12.5.82\n",
            "    Uninstalling nvidia-nvjitlink-cu12-12.5.82:\n",
            "      Successfully uninstalled nvidia-nvjitlink-cu12-12.5.82\n",
            "  Attempting uninstall: nvidia-curand-cu12\n",
            "    Found existing installation: nvidia-curand-cu12 10.3.6.82\n",
            "    Uninstalling nvidia-curand-cu12-10.3.6.82:\n",
            "      Successfully uninstalled nvidia-curand-cu12-10.3.6.82\n",
            "  Attempting uninstall: nvidia-cufft-cu12\n",
            "    Found existing installation: nvidia-cufft-cu12 11.2.3.61\n",
            "    Uninstalling nvidia-cufft-cu12-11.2.3.61:\n",
            "      Successfully uninstalled nvidia-cufft-cu12-11.2.3.61\n",
            "  Attempting uninstall: nvidia-cuda-runtime-cu12\n",
            "    Found existing installation: nvidia-cuda-runtime-cu12 12.5.82\n",
            "    Uninstalling nvidia-cuda-runtime-cu12-12.5.82:\n",
            "      Successfully uninstalled nvidia-cuda-runtime-cu12-12.5.82\n",
            "  Attempting uninstall: nvidia-cuda-nvrtc-cu12\n",
            "    Found existing installation: nvidia-cuda-nvrtc-cu12 12.5.82\n",
            "    Uninstalling nvidia-cuda-nvrtc-cu12-12.5.82:\n",
            "      Successfully uninstalled nvidia-cuda-nvrtc-cu12-12.5.82\n",
            "  Attempting uninstall: nvidia-cuda-cupti-cu12\n",
            "    Found existing installation: nvidia-cuda-cupti-cu12 12.5.82\n",
            "    Uninstalling nvidia-cuda-cupti-cu12-12.5.82:\n",
            "      Successfully uninstalled nvidia-cuda-cupti-cu12-12.5.82\n",
            "  Attempting uninstall: nvidia-cublas-cu12\n",
            "    Found existing installation: nvidia-cublas-cu12 12.5.3.2\n",
            "    Uninstalling nvidia-cublas-cu12-12.5.3.2:\n",
            "      Successfully uninstalled nvidia-cublas-cu12-12.5.3.2\n",
            "  Attempting uninstall: nvidia-cusparse-cu12\n",
            "    Found existing installation: nvidia-cusparse-cu12 12.5.1.3\n",
            "    Uninstalling nvidia-cusparse-cu12-12.5.1.3:\n",
            "      Successfully uninstalled nvidia-cusparse-cu12-12.5.1.3\n",
            "  Attempting uninstall: nvidia-cudnn-cu12\n",
            "    Found existing installation: nvidia-cudnn-cu12 9.3.0.75\n",
            "    Uninstalling nvidia-cudnn-cu12-9.3.0.75:\n",
            "      Successfully uninstalled nvidia-cudnn-cu12-9.3.0.75\n",
            "  Attempting uninstall: nvidia-cusolver-cu12\n",
            "    Found existing installation: nvidia-cusolver-cu12 11.6.3.83\n",
            "    Uninstalling nvidia-cusolver-cu12-11.6.3.83:\n",
            "      Successfully uninstalled nvidia-cusolver-cu12-11.6.3.83\n",
            "Successfully installed nvidia-cublas-cu12-12.4.5.8 nvidia-cuda-cupti-cu12-12.4.127 nvidia-cuda-nvrtc-cu12-12.4.127 nvidia-cuda-runtime-cu12-12.4.127 nvidia-cudnn-cu12-9.1.0.70 nvidia-cufft-cu12-11.2.1.3 nvidia-curand-cu12-10.3.5.147 nvidia-cusolver-cu12-11.6.1.9 nvidia-cusparse-cu12-12.3.1.170 nvidia-nvjitlink-cu12-12.4.127\n"
          ]
        }
      ]
    },
    {
      "cell_type": "code",
      "source": [
        "import os\n",
        "import zipfile\n",
        "\n",
        "# Zip path and extract path\n",
        "zip_path = '/content/drive/MyDrive/400mal_600ben/400mal_600ben_224.zip'\n",
        "extract_path = '/content/400mal_600ben'\n",
        "\n",
        "# 1. Unzip file\n",
        "if not os.path.exists(extract_path):\n",
        "    os.makedirs(extract_path)\n",
        "\n",
        "print(\"Unzip...\")\n",
        "with zipfile.ZipFile(zip_path, 'r') as zip_ref:\n",
        "    zip_ref.extractall(extract_path)\n",
        "print(\"Finish Unzip!\")\n",
        "\n",
        "# 2. Print out structure of new path\n",
        "print(\"\\n File list & file:\")\n",
        "for root, dirs, files in os.walk(extract_path):\n",
        "    print(f\" {root}\")\n",
        "    for f in files[:5]:\n",
        "        print(f\"   - {f}\")"
      ],
      "metadata": {
        "colab": {
          "base_uri": "https://localhost:8080/"
        },
        "collapsed": true,
        "id": "UUWxZM2-AXcm",
        "outputId": "8ac2dda4-494b-4647-a9d3-6d8ce6325b2b"
      },
      "execution_count": null,
      "outputs": [
        {
          "output_type": "stream",
          "name": "stdout",
          "text": [
            "Unzip...\n",
            "Finish Unzip!\n",
            "\n",
            " File list & file:\n",
            " /content/400mal_600ben\n",
            " /content/400mal_600ben/400mal_600ben_224\n",
            "   - ISIC_2766683.jpg\n",
            "   - ISIC_8300377.jpg\n",
            "   - ISIC_5365617.jpg\n",
            "   - ISIC_2232442.jpg\n",
            "   - ISIC_8195604.jpg\n",
            " /content/400mal_600ben/__MACOSX\n",
            " /content/400mal_600ben/__MACOSX/400mal_600ben_224\n",
            "   - ._ISIC_9625875.jpg\n",
            "   - ._ISIC_0517460.jpg\n"
          ]
        }
      ]
    },
    {
      "cell_type": "markdown",
      "source": [
        "**1.DATA DECLARATION**"
      ],
      "metadata": {
        "id": "7IvAsNsuETOO"
      }
    },
    {
      "cell_type": "code",
      "source": [
        "# Parameter\n",
        "IMAGE_SIZE = 224\n",
        "BATCH_SIZE = 32\n",
        "EPOCHS = 15\n",
        "DEVICE = torch.device(\"cuda\" if torch.cuda.is_available() else \"cpu\")\n",
        "print(f\"Using device: {DEVICE}\")\n",
        "\n",
        "# Path after unzip\n",
        "CSV_PATH = '/content/drive/MyDrive/ISIC_2020_Training_GroundTruth.csv'\n",
        "IMAGE_DIR = '/content/400mal_600ben/400mal_600ben_224'\n"
      ],
      "metadata": {
        "colab": {
          "base_uri": "https://localhost:8080/"
        },
        "id": "w_78qwkgDuDy",
        "outputId": "1d9f17c5-c15a-4086-ccaa-9b3caddb0043"
      },
      "execution_count": null,
      "outputs": [
        {
          "output_type": "stream",
          "name": "stdout",
          "text": [
            "Using device: cuda\n"
          ]
        }
      ]
    },
    {
      "cell_type": "markdown",
      "source": [
        "**2. DATASET & DATALOADER – FULL**"
      ],
      "metadata": {
        "id": "b8gn8BU2Ei_1"
      }
    },
    {
      "cell_type": "code",
      "source": [
        "from PIL import Image\n",
        "from torch.utils.data import Dataset, DataLoader\n",
        "import torchvision.transforms as transforms\n",
        "from sklearn.model_selection import train_test_split\n",
        "import pandas as pd\n",
        "\n",
        "# Define custom dataset for JPEG images\n",
        "class JPEGDataset(Dataset):\n",
        "    def __init__(self, dataframe, root_dir, transform=None):\n",
        "        self.dataframe = dataframe\n",
        "        self.root_dir = root_dir\n",
        "        self.transform = transform\n",
        "\n",
        "    def __len__(self):\n",
        "        return len(self.dataframe)\n",
        "\n",
        "    def __getitem__(self, idx):\n",
        "        img_name = os.path.join(self.root_dir, self.dataframe.iloc[idx][\"image_name\"] + \".jpg\")\n",
        "        try:\n",
        "            image = Image.open(img_name).convert(\"RGB\")\n",
        "            if self.transform:\n",
        "                image = self.transform(image)\n",
        "            label = self.dataframe.iloc[idx][\"target\"]\n",
        "            return image, torch.tensor(label, dtype=torch.float32)\n",
        "        except Exception as e:\n",
        "            print(f\"Error loading {img_name}: {str(e)}\")\n",
        "            dummy_img = torch.zeros(3, IMAGE_SIZE, IMAGE_SIZE)\n",
        "            return dummy_img, torch.tensor(0.0, dtype=torch.float32)\n",
        "\n",
        "# Prepare training, validation, and test data loaders\n",
        "def prepare_data_with_test(csv_path, image_dir, test_size=0.1, val_size=0.1):\n",
        "    df = pd.read_csv(csv_path)\n",
        "    existing = set(os.path.splitext(f)[0] for f in os.listdir(image_dir) if f.endswith(\".jpg\"))\n",
        "    df = df[df[\"image_name\"].isin(existing)]\n",
        "    df = df[[\"image_name\", \"target\"]].dropna()\n",
        "\n",
        "    train_val_df, test_df = train_test_split(df, test_size=test_size, random_state=42, stratify=df[\"target\"])\n",
        "    val_frac = val_size / (1 - test_size)\n",
        "    train_df, val_df = train_test_split(train_val_df, test_size=val_frac, random_state=42, stratify=train_val_df[\"target\"])\n",
        "\n",
        "    transform = transforms.Compose([\n",
        "        transforms.Resize((IMAGE_SIZE, IMAGE_SIZE)),\n",
        "        transforms.ToTensor(),\n",
        "        transforms.Normalize(mean=[0.485, 0.456, 0.406],\n",
        "                             std=[0.229, 0.224, 0.225])\n",
        "    ])\n",
        "\n",
        "    train_ds = JPEGDataset(train_df, image_dir, transform)\n",
        "    val_ds   = JPEGDataset(val_df, image_dir, transform)\n",
        "    test_ds  = JPEGDataset(test_df, image_dir, transform)\n",
        "\n",
        "    train_loader = DataLoader(train_ds, batch_size=BATCH_SIZE, shuffle=True, num_workers=2, pin_memory=True)\n",
        "    val_loader   = DataLoader(val_ds, batch_size=BATCH_SIZE, shuffle=False, num_workers=2)\n",
        "    test_loader  = DataLoader(test_ds, batch_size=BATCH_SIZE, shuffle=False, num_workers=2)\n",
        "\n",
        "    return train_loader, val_loader, test_loader\n"
      ],
      "metadata": {
        "id": "qr2kFLaHD1J4"
      },
      "execution_count": null,
      "outputs": []
    },
    {
      "cell_type": "markdown",
      "source": [
        "**3. MODEL TRAINING LOOP**"
      ],
      "metadata": {
        "id": "gLAS5HjOEtpu"
      }
    },
    {
      "cell_type": "code",
      "source": [
        "import timm\n",
        "import torch.nn as nn\n",
        "import torch.optim as optim\n",
        "\n",
        "# Initialize Vision Transformer model and optimizer\n",
        "def setup_model():\n",
        "    # Load pre-trained ViT backbone\n",
        "    model = timm.create_model('vit_base_patch16_224', pretrained=True, num_classes=0)\n",
        "\n",
        "    # Create custom classification head\n",
        "    classifier = nn.Sequential(\n",
        "        nn.Linear(model.embed_dim, 256),\n",
        "        nn.ReLU(),\n",
        "        nn.Dropout(0.3),\n",
        "        nn.Linear(256, 1)\n",
        "    )\n",
        "\n",
        "    # Combine backbone and classifier\n",
        "    model = nn.Sequential(model, classifier).to(DEVICE)\n",
        "\n",
        "    # Define loss function and optimizer\n",
        "    criterion = nn.BCEWithLogitsLoss()\n",
        "    optimizer = optim.AdamW(model.parameters(), lr=1e-4, weight_decay=1e-5)\n",
        "    scheduler = optim.lr_scheduler.ReduceLROnPlateau(optimizer, mode='min', patience=1, verbose=True)\n",
        "\n",
        "    return model, criterion, optimizer, scheduler\n"
      ],
      "metadata": {
        "id": "mqvFPdCcEt1H"
      },
      "execution_count": null,
      "outputs": []
    },
    {
      "cell_type": "code",
      "source": [
        "# Train model and save the best version based on validation loss\n",
        "def train_model(model, criterion, optimizer, scheduler, train_loader, val_loader):\n",
        "    best_val_loss = float('inf')\n",
        "\n",
        "    for epoch in range(EPOCHS):\n",
        "        print(f\"\\n Epoch {epoch+1}/{EPOCHS} - Training...\")\n",
        "        model.train()\n",
        "        total_loss = 0.0\n",
        "\n",
        "        for images, labels in train_loader:\n",
        "            images, labels = images.to(DEVICE), labels.to(DEVICE)\n",
        "\n",
        "            optimizer.zero_grad()\n",
        "            outputs = model(images).squeeze()\n",
        "            loss = criterion(outputs, labels)\n",
        "            loss.backward()\n",
        "            optimizer.step()\n",
        "\n",
        "            total_loss += loss.item() * images.size(0)\n",
        "\n",
        "        avg_train_loss = total_loss / len(train_loader.dataset)\n",
        "        val_loss, val_metrics = evaluate_model(model, criterion, val_loader)\n",
        "        scheduler.step(val_loss)\n",
        "\n",
        "        print(f\"Epoch {epoch+1}/{EPOCHS} | Train Loss: {avg_train_loss:.4f} | \"\n",
        "              f\"Val Loss: {val_loss:.4f} | Val Acc: {val_metrics['accuracy']:.4f} | \"\n",
        "              f\"AUC: {val_metrics['auc']:.4f}\")\n",
        "\n",
        "        if val_loss < best_val_loss:\n",
        "            best_val_loss = val_loss\n",
        "            torch.save(model.state_dict(), '/content/drive/MyDrive/vit_skin_best.pth')\n",
        "            print(\" Best model saved.\")"
      ],
      "metadata": {
        "id": "84jIQf6WHaL_"
      },
      "execution_count": null,
      "outputs": []
    },
    {
      "cell_type": "markdown",
      "source": [
        "**4. EVALUTATION**"
      ],
      "metadata": {
        "id": "ccY-SgH2GOqd"
      }
    },
    {
      "cell_type": "code",
      "source": [
        "from sklearn.metrics import accuracy_score, precision_score, recall_score, roc_auc_score, roc_curve\n",
        "import numpy as np\n",
        "\n",
        "# Evaluate the model on a given DataLoader\n",
        "def evaluate_model(model, criterion, loader):\n",
        "    model.eval()\n",
        "    all_preds, all_probs, all_labels = [], [], []\n",
        "    total_loss = 0.0\n",
        "\n",
        "    with torch.no_grad():\n",
        "        for images, labels in loader:\n",
        "            images, labels = images.to(DEVICE), labels.to(DEVICE)\n",
        "            outputs = model(images).squeeze()\n",
        "            loss = criterion(outputs, labels)\n",
        "            total_loss += loss.item() * images.size(0)\n",
        "\n",
        "            probs = torch.sigmoid(outputs).cpu().numpy()\n",
        "            preds = (probs > 0.5).astype(int)\n",
        "\n",
        "            all_probs.extend(probs)\n",
        "            all_preds.extend(preds)\n",
        "            all_labels.extend(labels.cpu().numpy())\n",
        "\n",
        "    return total_loss / len(loader.dataset), {\n",
        "        'accuracy': accuracy_score(all_labels, all_preds),\n",
        "        'precision': precision_score(all_labels, all_preds, zero_division=0),\n",
        "        'recall': recall_score(all_labels, all_preds, zero_division=0),\n",
        "        'auc': roc_auc_score(all_labels, all_probs),\n",
        "        'fpr': roc_curve(all_labels, all_probs)[0],\n",
        "        'tpr': roc_curve(all_labels, all_probs)[1]\n",
        "    }\n"
      ],
      "metadata": {
        "id": "JFOjxrwJFGSo"
      },
      "execution_count": null,
      "outputs": []
    },
    {
      "cell_type": "markdown",
      "source": [
        "**5. MAIN EXECUTION**"
      ],
      "metadata": {
        "id": "KncchHlDFOdK"
      }
    },
    {
      "cell_type": "code",
      "source": [
        "%%time\n",
        "# Prepare data loaders from CSV and image folder\n",
        "train_loader, val_loader, test_loader = prepare_data_with_test(CSV_PATH, IMAGE_DIR)\n",
        "\n",
        "# Initialize Vision Transformer model\n",
        "model, criterion, optimizer, scheduler = setup_model()\n",
        "\n",
        "# Start training\n",
        "print(\"\\n Start training...\")\n",
        "train_model(model, criterion, optimizer, scheduler, train_loader, val_loader)\n",
        "\n",
        "# Load best model after training\n",
        "print(\"\\n Loading best model...\")\n",
        "model.load_state_dict(torch.load('/content/drive/MyDrive/vit_skin_best.pth'))\n",
        "\n",
        "# Evaluate model on the test set\n",
        "print(\"\\n Evaluating on test set...\")\n",
        "test_loss, test_metrics = evaluate_model(model, criterion, test_loader)\n",
        "\n",
        "# Print test results\n",
        "print(\"\\n Final Test Results\")\n",
        "print(f\"Loss:     {test_loss:.4f}\")\n",
        "print(f\"Accuracy: {test_metrics['accuracy']:.4f}\")\n",
        "print(f\"Precision:{test_metrics['precision']:.4f}\")\n",
        "print(f\"Recall:   {test_metrics['recall']:.4f}\")\n",
        "print(f\"AUC:      {test_metrics['auc']:.4f}\")\n",
        "\n",
        "# Plot and save ROC curve\n",
        "import matplotlib.pyplot as plt\n",
        "\n",
        "print(\"\\n Plotting ROC Curve...\")\n",
        "plt.figure(figsize=(8, 6))\n",
        "plt.plot(test_metrics['fpr'], test_metrics['tpr'], label=f'AUC = {test_metrics[\"auc\"]:.4f}')\n",
        "plt.plot([0, 1], [0, 1], 'k--')\n",
        "plt.xlabel('False Positive Rate')\n",
        "plt.ylabel('True Positive Rate')\n",
        "plt.title('ROC Curve')\n",
        "plt.legend()\n",
        "# plt.savefig('/content/drive/MyDrive/vit_roc_curve.png')\n",
        "plt.show()\n"
      ],
      "metadata": {
        "colab": {
          "base_uri": "https://localhost:8080/",
          "height": 1000,
          "referenced_widgets": [
            "80d679819b8d498ca8738b1ef666fdb5",
            "88818a26c76a4bf3a6fd980ace569bf7",
            "8eae26a4d1fc4edd935bc35674774c84",
            "de4f1a42b2cd4b7690882ba28a3f66a8",
            "ac91c20074ea4f70a99949eb40d4679c",
            "8395c7fadf224ba7b82bc332e5bbd2f9",
            "58797f912c4a457998c2dfeab0d12fc1",
            "7284391f4e0545a1820681654b148660",
            "e1b0de00d7cd4815a388af469f20dde9",
            "27ca6c98e1e54409a7f430374a83fcf9",
            "369a52c6956c4f8c8607296d28772287"
          ]
        },
        "id": "74LAvERjFOol",
        "outputId": "e2978ce8-2c8d-4bbf-cdd1-5a5603b1fbe0"
      },
      "execution_count": null,
      "outputs": [
        {
          "output_type": "stream",
          "name": "stderr",
          "text": [
            "/usr/local/lib/python3.11/dist-packages/huggingface_hub/utils/_auth.py:94: UserWarning: \n",
            "The secret `HF_TOKEN` does not exist in your Colab secrets.\n",
            "To authenticate with the Hugging Face Hub, create a token in your settings tab (https://huggingface.co/settings/tokens), set it as secret in your Google Colab and restart your session.\n",
            "You will be able to reuse this secret in all of your notebooks.\n",
            "Please note that authentication is recommended but still optional to access public models or datasets.\n",
            "  warnings.warn(\n"
          ]
        },
        {
          "output_type": "display_data",
          "data": {
            "text/plain": [
              "model.safetensors:   0%|          | 0.00/346M [00:00<?, ?B/s]"
            ],
            "application/vnd.jupyter.widget-view+json": {
              "version_major": 2,
              "version_minor": 0,
              "model_id": "80d679819b8d498ca8738b1ef666fdb5"
            }
          },
          "metadata": {}
        },
        {
          "output_type": "stream",
          "name": "stdout",
          "text": [
            "\n",
            " Start training...\n",
            "\n",
            " Epoch 1/15 - Training...\n"
          ]
        },
        {
          "output_type": "stream",
          "name": "stderr",
          "text": [
            "/usr/local/lib/python3.11/dist-packages/torch/optim/lr_scheduler.py:62: UserWarning: The verbose parameter is deprecated. Please use get_last_lr() to access the learning rate.\n",
            "  warnings.warn(\n"
          ]
        },
        {
          "output_type": "stream",
          "name": "stdout",
          "text": [
            "Epoch 1/15 | Train Loss: 0.6174 | Val Loss: 0.6026 | Val Acc: 0.5600 | AUC: 0.6850\n",
            " Best model saved.\n",
            "\n",
            " Epoch 2/15 - Training...\n",
            "Epoch 2/15 | Train Loss: 0.5474 | Val Loss: 0.6046 | Val Acc: 0.6800 | AUC: 0.7933\n",
            "\n",
            " Epoch 3/15 - Training...\n",
            "Epoch 3/15 | Train Loss: 0.5184 | Val Loss: 0.5839 | Val Acc: 0.7400 | AUC: 0.8333\n",
            " Best model saved.\n",
            "\n",
            " Epoch 4/15 - Training...\n",
            "Epoch 4/15 | Train Loss: 0.5171 | Val Loss: 0.5749 | Val Acc: 0.6100 | AUC: 0.8296\n",
            " Best model saved.\n",
            "\n",
            " Epoch 5/15 - Training...\n",
            "Epoch 5/15 | Train Loss: 0.5265 | Val Loss: 0.5833 | Val Acc: 0.7500 | AUC: 0.7917\n",
            "\n",
            " Epoch 6/15 - Training...\n",
            "Epoch 6/15 | Train Loss: 0.4777 | Val Loss: 0.5292 | Val Acc: 0.7600 | AUC: 0.8317\n",
            " Best model saved.\n",
            "\n",
            " Epoch 7/15 - Training...\n",
            "Epoch 7/15 | Train Loss: 0.4509 | Val Loss: 0.5559 | Val Acc: 0.6600 | AUC: 0.8292\n",
            "\n",
            " Epoch 8/15 - Training...\n",
            "Epoch 8/15 | Train Loss: 0.4708 | Val Loss: 0.5194 | Val Acc: 0.7500 | AUC: 0.8079\n",
            " Best model saved.\n",
            "\n",
            " Epoch 9/15 - Training...\n",
            "Epoch 9/15 | Train Loss: 0.4561 | Val Loss: 0.5179 | Val Acc: 0.7800 | AUC: 0.8317\n",
            " Best model saved.\n",
            "\n",
            " Epoch 10/15 - Training...\n",
            "Epoch 10/15 | Train Loss: 0.4506 | Val Loss: 0.5210 | Val Acc: 0.7800 | AUC: 0.8325\n",
            "\n",
            " Epoch 11/15 - Training...\n",
            "Epoch 11/15 | Train Loss: 0.3770 | Val Loss: 0.6592 | Val Acc: 0.7400 | AUC: 0.8029\n",
            "\n",
            " Epoch 12/15 - Training...\n",
            "Epoch 12/15 | Train Loss: 0.3200 | Val Loss: 0.6512 | Val Acc: 0.7700 | AUC: 0.8071\n",
            "\n",
            " Epoch 13/15 - Training...\n",
            "Epoch 13/15 | Train Loss: 0.2796 | Val Loss: 0.7240 | Val Acc: 0.7700 | AUC: 0.7996\n",
            "\n",
            " Epoch 14/15 - Training...\n",
            "Epoch 14/15 | Train Loss: 0.2443 | Val Loss: 0.7254 | Val Acc: 0.7700 | AUC: 0.8017\n",
            "\n",
            " Epoch 15/15 - Training...\n",
            "Epoch 15/15 | Train Loss: 0.2360 | Val Loss: 0.7270 | Val Acc: 0.7700 | AUC: 0.8033\n",
            "\n",
            " Loading best model...\n",
            "\n",
            " Evaluating on test set...\n",
            "\n",
            " Final Test Results\n",
            "Loss:     0.5698\n",
            "Accuracy: 0.6600\n",
            "Precision:0.5600\n",
            "Recall:   0.7000\n",
            "AUC:      0.7600\n",
            "\n",
            " Plotting ROC Curve...\n"
          ]
        },
        {
          "output_type": "display_data",
          "data": {
            "text/plain": [
              "<Figure size 800x600 with 1 Axes>"
            ],
            "image/png": "[encoded data removed]"
          },
          "metadata": {}
        },
        {
          "output_type": "stream",
          "name": "stdout",
          "text": [
            "CPU times: user 1min 31s, sys: 5.57 s, total: 1min 36s\n",
            "Wall time: 1min 55s\n"
          ]
        }
      ]
    },
    {
      "cell_type": "markdown",
      "source": [
        "**6.TUNNING**"
      ],
      "metadata": {
        "id": "4mCU5jy6K7Vr"
      }
    },
    {
      "cell_type": "code",
      "source": [
        "!pip install optuna"
      ],
      "metadata": {
        "colab": {
          "base_uri": "https://localhost:8080/"
        },
        "collapsed": true,
        "id": "aRvgaKFZK-jn",
        "outputId": "7893824b-5ccf-4ba7-ed71-dc76903270ac"
      },
      "execution_count": null,
      "outputs": [
        {
          "output_type": "stream",
          "name": "stdout",
          "text": [
            "Collecting optuna\n",
            "  Downloading optuna-4.4.0-py3-none-any.whl.metadata (17 kB)\n",
            "Collecting alembic>=1.5.0 (from optuna)\n",
            "  Downloading alembic-1.16.2-py3-none-any.whl.metadata (7.3 kB)\n",
            "Collecting colorlog (from optuna)\n",
            "  Downloading colorlog-6.9.0-py3-none-any.whl.metadata (10 kB)\n",
            "Requirement already satisfied: numpy in /usr/local/lib/python3.11/dist-packages (from optuna) (2.0.2)\n",
            "Requirement already satisfied: packaging>=20.0 in /usr/local/lib/python3.11/dist-packages (from optuna) (24.2)\n",
            "Requirement already satisfied: sqlalchemy>=1.4.2 in /usr/local/lib/python3.11/dist-packages (from optuna) (2.0.41)\n",
            "Requirement already satisfied: tqdm in /usr/local/lib/python3.11/dist-packages (from optuna) (4.67.1)\n",
            "Requirement already satisfied: PyYAML in /usr/local/lib/python3.11/dist-packages (from optuna) (6.0.2)\n",
            "Requirement already satisfied: Mako in /usr/lib/python3/dist-packages (from alembic>=1.5.0->optuna) (1.1.3)\n",
            "Requirement already satisfied: typing-extensions>=4.12 in /usr/local/lib/python3.11/dist-packages (from alembic>=1.5.0->optuna) (4.14.0)\n",
            "Requirement already satisfied: greenlet>=1 in /usr/local/lib/python3.11/dist-packages (from sqlalchemy>=1.4.2->optuna) (3.2.3)\n",
            "Downloading optuna-4.4.0-py3-none-any.whl (395 kB)\n",
            "\u001b[2K   \u001b[90m━━━━━━━━━━━━━━━━━━━━━━━━━━━━━━━━━━━━━━━━\u001b[0m \u001b[32m395.9/395.9 kB\u001b[0m \u001b[31m9.4 MB/s\u001b[0m eta \u001b[36m0:00:00\u001b[0m\n",
            "\u001b[?25hDownloading alembic-1.16.2-py3-none-any.whl (242 kB)\n",
            "\u001b[2K   \u001b[90m━━━━━━━━━━━━━━━━━━━━━━━━━━━━━━━━━━━━━━━━\u001b[0m \u001b[32m242.7/242.7 kB\u001b[0m \u001b[31m18.9 MB/s\u001b[0m eta \u001b[36m0:00:00\u001b[0m\n",
            "\u001b[?25hDownloading colorlog-6.9.0-py3-none-any.whl (11 kB)\n",
            "Installing collected packages: colorlog, alembic, optuna\n",
            "Successfully installed alembic-1.16.2 colorlog-6.9.0 optuna-4.4.0\n"
          ]
        }
      ]
    },
    {
      "cell_type": "code",
      "source": [
        "import optuna\n",
        "\n",
        "def objective(trial):\n",
        "    # hyperparameters\n",
        "    lr = trial.suggest_float(\"learning_rate\", 1e-5, 5e-4, log=True)\n",
        "    dropout = trial.suggest_float(\"dropout\", 0.1, 0.5)\n",
        "    weight_decay = trial.suggest_float(\"weight_decay\", 0, 1e-4)\n",
        "\n",
        "    # Setup model with current trial's hyperparams\n",
        "    model = timm.create_model('vit_base_patch16_224', pretrained=True, num_classes=0)\n",
        "    classifier = nn.Sequential(\n",
        "        nn.Linear(model.embed_dim, 256),\n",
        "        nn.ReLU(),\n",
        "        nn.Dropout(dropout),\n",
        "        nn.Linear(256, 1)\n",
        "    )\n",
        "    model = nn.Sequential(model, classifier).to(DEVICE)\n",
        "\n",
        "    criterion = nn.BCEWithLogitsLoss()\n",
        "    optimizer = optim.AdamW(model.parameters(), lr=lr, weight_decay=weight_decay)\n",
        "\n",
        "    # Train only for 5 epochs to evaluate quickly\n",
        "    for epoch in range(5):\n",
        "        model.train()\n",
        "        for images, labels in train_loader:\n",
        "            images, labels = images.to(DEVICE), labels.to(DEVICE)\n",
        "            optimizer.zero_grad()\n",
        "            outputs = model(images).squeeze()\n",
        "            loss = criterion(outputs, labels)\n",
        "            loss.backward()\n",
        "            optimizer.step()\n",
        "\n",
        "    # Evaluate on validation set\n",
        "    val_loss, val_metrics = evaluate_model(model, criterion, val_loader)\n",
        "\n",
        "    # Return validation AUC as objective to maximize\n",
        "    return val_metrics[\"auc\"]\n"
      ],
      "metadata": {
        "id": "R6tLtrT_LAY8"
      },
      "execution_count": null,
      "outputs": []
    },
    {
      "cell_type": "code",
      "source": [
        "study = optuna.create_study(direction=\"maximize\")  # maximize AUC\n",
        "study.optimize(objective, n_trials=10)\n",
        "\n",
        "print(\"\\nBest Trial:\")\n",
        "print(study.best_trial)"
      ],
      "metadata": {
        "colab": {
          "base_uri": "https://localhost:8080/"
        },
        "collapsed": true,
        "id": "VoMh-CiZLFJp",
        "outputId": "e9058425-81c0-4641-9fdd-e4f7543755ce"
      },
      "execution_count": null,
      "outputs": [
        {
          "output_type": "stream",
          "name": "stderr",
          "text": [
            "[I 2025-06-25 03:48:57,651] A new study created in memory with name: no-name-675e6f9b-f90f-49da-bbd9-ab1862cd4ef6\n",
            "[I 2025-06-25 03:49:26,250] Trial 0 finished with value: 0.8479166666666667 and parameters: {'learning_rate': 4.7915711715564255e-05, 'dropout': 0.3499997238333231, 'weight_decay': 8.617029698532476e-05}. Best is trial 0 with value: 0.8479166666666667.\n",
            "[I 2025-06-25 03:49:54,877] Trial 1 finished with value: 0.8316666666666667 and parameters: {'learning_rate': 7.333970897821733e-05, 'dropout': 0.1580799146727467, 'weight_decay': 7.965577002125312e-05}. Best is trial 0 with value: 0.8479166666666667.\n",
            "[I 2025-06-25 03:50:23,450] Trial 2 finished with value: 0.8375 and parameters: {'learning_rate': 2.2520171263709304e-05, 'dropout': 0.2025782108463072, 'weight_decay': 6.504081261522709e-05}. Best is trial 0 with value: 0.8479166666666667.\n",
            "[I 2025-06-25 03:50:52,049] Trial 3 finished with value: 0.7770833333333333 and parameters: {'learning_rate': 6.23542031245196e-05, 'dropout': 0.19164093510650743, 'weight_decay': 3.7446154229688893e-07}. Best is trial 0 with value: 0.8479166666666667.\n",
            "[I 2025-06-25 03:51:20,636] Trial 4 finished with value: 0.87 and parameters: {'learning_rate': 1.830653447849522e-05, 'dropout': 0.12372579910981632, 'weight_decay': 6.929956707408269e-06}. Best is trial 4 with value: 0.87.\n",
            "[I 2025-06-25 03:51:49,216] Trial 5 finished with value: 0.8316666666666666 and parameters: {'learning_rate': 3.429120295521867e-05, 'dropout': 0.38232812087014933, 'weight_decay': 1.5898078590748868e-05}. Best is trial 4 with value: 0.87.\n",
            "[I 2025-06-25 03:52:17,833] Trial 6 finished with value: 0.78125 and parameters: {'learning_rate': 0.00022081124138970004, 'dropout': 0.35103805995592774, 'weight_decay': 2.2040976325896467e-05}. Best is trial 4 with value: 0.87.\n",
            "[I 2025-06-25 03:52:46,456] Trial 7 finished with value: 0.8583333333333333 and parameters: {'learning_rate': 2.367735101012968e-05, 'dropout': 0.1035404231669022, 'weight_decay': 3.70962848022894e-05}. Best is trial 4 with value: 0.87.\n",
            "[I 2025-06-25 03:53:15,084] Trial 8 finished with value: 0.7883333333333333 and parameters: {'learning_rate': 0.0002494328682802816, 'dropout': 0.2690129835460239, 'weight_decay': 3.226408283954151e-05}. Best is trial 4 with value: 0.87.\n",
            "[I 2025-06-25 03:53:43,693] Trial 9 finished with value: 0.8041666666666667 and parameters: {'learning_rate': 0.00014261944337651803, 'dropout': 0.1510494082431346, 'weight_decay': 5.873888017151141e-06}. Best is trial 4 with value: 0.87.\n"
          ]
        },
        {
          "output_type": "stream",
          "name": "stdout",
          "text": [
            "\n",
            "Best Trial:\n",
            "FrozenTrial(number=4, state=1, values=[0.87], datetime_start=datetime.datetime(2025, 6, 25, 3, 50, 52, 50389), datetime_complete=datetime.datetime(2025, 6, 25, 3, 51, 20, 636817), params={'learning_rate': 1.830653447849522e-05, 'dropout': 0.12372579910981632, 'weight_decay': 6.929956707408269e-06}, user_attrs={}, system_attrs={}, intermediate_values={}, distributions={'learning_rate': FloatDistribution(high=0.0005, log=True, low=1e-05, step=None), 'dropout': FloatDistribution(high=0.5, log=False, low=0.1, step=None), 'weight_decay': FloatDistribution(high=0.0001, log=False, low=0.0, step=None)}, trial_id=4, value=None)\n"
          ]
        }
      ]
    },
    {
      "cell_type": "markdown",
      "source": [
        "**7.RETRAIN WITH BEST PARAM**"
      ],
      "metadata": {
        "id": "In0Gk0fCL4pL"
      }
    },
    {
      "cell_type": "code",
      "source": [
        "%%time\n",
        "\n",
        "# ===== Get best hyperparameters from Optuna =====\n",
        "best_params = study.best_trial.params\n",
        "\n",
        "# ===== Innitilize ViT with best param =====\n",
        "from timm import create_model\n",
        "import torch.nn as nn\n",
        "import torch.optim as optim\n",
        "from torch.optim.lr_scheduler import ReduceLROnPlateau\n",
        "\n",
        "def setup_vit_model_with_custom_params(lr, dropout, weight_decay):\n",
        "    model = create_model(\n",
        "        'vit_base_patch16_224',\n",
        "        pretrained=True,\n",
        "        num_classes=1,\n",
        "        drop_rate=dropout\n",
        "    )\n",
        "    model.to(DEVICE)\n",
        "\n",
        "    criterion = nn.BCEWithLogitsLoss()\n",
        "    optimizer = optim.AdamW(model.parameters(), lr=lr, weight_decay=weight_decay)\n",
        "    scheduler = ReduceLROnPlateau(optimizer, mode='min', factor=0.5, patience=2, verbose=True)\n",
        "\n",
        "    return model, criterion, optimizer, scheduler\n",
        "\n",
        "# ===== prep data =====\n",
        "train_loader, val_loader, test_loader = prepare_data_with_test(CSV_PATH, IMAGE_DIR)\n",
        "\n",
        "# ===== innitialize with best params =====\n",
        "model, criterion, optimizer, scheduler = setup_vit_model_with_custom_params(\n",
        "    lr=best_params['learning_rate'],\n",
        "    dropout=best_params['dropout'],\n",
        "    weight_decay=best_params['weight_decay']\n",
        ")\n",
        "\n",
        "# ===== train with validation and save best model =====\n",
        "import copy\n",
        "import numpy as np\n",
        "\n",
        "def train_model(model, criterion, optimizer, scheduler, train_loader, val_loader, epochs=EPOCHS):\n",
        "    best_auc = 0.0\n",
        "    best_model_wts = copy.deepcopy(model.state_dict())\n",
        "\n",
        "    for epoch in range(epochs):\n",
        "        model.train()\n",
        "        total_loss = 0.0\n",
        "\n",
        "        for images, labels in train_loader:\n",
        "            images, labels = images.to(DEVICE), labels.to(DEVICE)\n",
        "            optimizer.zero_grad()\n",
        "            outputs = model(images).squeeze()\n",
        "            loss = criterion(outputs, labels)\n",
        "            loss.backward()\n",
        "            optimizer.step()\n",
        "            total_loss += loss.item() * images.size(0)\n",
        "\n",
        "        avg_train_loss = total_loss / len(train_loader.dataset)\n",
        "\n",
        "        # Validation\n",
        "        val_loss, val_metrics = evaluate_model(model, criterion, val_loader)\n",
        "        scheduler.step(val_loss)\n",
        "\n",
        "        print(f\"Epoch {epoch+1}/{epochs} | Train Loss: {avg_train_loss:.4f} | Val AUC: {val_metrics['auc']:.4f}\")\n",
        "\n",
        "        # Save best model\n",
        "        if val_metrics['auc'] > best_auc:\n",
        "            best_auc = val_metrics['auc']\n",
        "            best_model_wts = copy.deepcopy(model.state_dict())\n",
        "            torch.save(best_model_wts, '/content/drive/MyDrive/vit_skin_best.pth')\n",
        "            print(\" Saved new best model.\")\n",
        "\n",
        "    model.load_state_dict(best_model_wts)\n",
        "    return model\n",
        "\n",
        "# ===== Start retrain =====\n",
        "print(\"\\n Retraining Vision Transformer with best Optuna parameters...\")\n",
        "model = train_model(model, criterion, optimizer, scheduler, train_loader, val_loader)\n",
        "\n",
        "# ===== Get best model =====\n",
        "print(\"\\n Loading best model...\")\n",
        "model.load_state_dict(torch.load('/content/drive/MyDrive/vit_skin_best.pth'))\n",
        "\n",
        "# ===== Evaluate test set =====\n",
        "print(\"\\n Evaluating on test set...\")\n",
        "test_loss, test_metrics = evaluate_model(model, criterion, test_loader)\n",
        "\n",
        "# ===== Print result =====\n",
        "print(\"\\n Final Test Results\")\n",
        "print(f\"Loss:     {test_loss:.4f}\")\n",
        "print(f\"Accuracy: {test_metrics['accuracy']:.4f}\")\n",
        "print(f\"Precision:{test_metrics['precision']:.4f}\")\n",
        "print(f\"Recall:   {test_metrics['recall']:.4f}\")\n",
        "print(f\"AUC:      {test_metrics['auc']:.4f}\")\n",
        "\n",
        "# =====  ROC Curve =====\n",
        "import matplotlib.pyplot as plt\n",
        "\n",
        "print(\"\\n Plotting ROC Curve...\")\n",
        "plt.figure(figsize=(8, 6))\n",
        "plt.plot(test_metrics['fpr'], test_metrics['tpr'], label=f'AUC = {test_metrics[\"auc\"]:.4f}')\n",
        "plt.plot([0, 1], [0, 1], 'k--')\n",
        "plt.xlabel('False Positive Rate')\n",
        "plt.ylabel('True Positive Rate')\n",
        "plt.title('ROC Curve')\n",
        "plt.legend()\n",
        "plt.show()\n"
      ],
      "metadata": {
        "colab": {
          "base_uri": "https://localhost:8080/",
          "height": 1000
        },
        "collapsed": true,
        "id": "GROSvjchMjXy",
        "outputId": "3f91bf83-05a1-4e64-eb90-98da595a8c67"
      },
      "execution_count": null,
      "outputs": [
        {
          "output_type": "stream",
          "name": "stdout",
          "text": [
            "\n",
            " Retraining Vision Transformer with best Optuna parameters...\n"
          ]
        },
        {
          "output_type": "stream",
          "name": "stderr",
          "text": [
            "/usr/local/lib/python3.11/dist-packages/torch/optim/lr_scheduler.py:62: UserWarning: The verbose parameter is deprecated. Please use get_last_lr() to access the learning rate.\n",
            "  warnings.warn(\n"
          ]
        },
        {
          "output_type": "stream",
          "name": "stdout",
          "text": [
            "Epoch 1/15 | Train Loss: 0.5392 | Val AUC: 0.8538\n",
            " Saved new best model.\n",
            "Epoch 2/15 | Train Loss: 0.3823 | Val AUC: 0.8542\n",
            " Saved new best model.\n",
            "Epoch 3/15 | Train Loss: 0.2345 | Val AUC: 0.8588\n",
            " Saved new best model.\n",
            "Epoch 4/15 | Train Loss: 0.1291 | Val AUC: 0.8483\n",
            "Epoch 5/15 | Train Loss: 0.0510 | Val AUC: 0.8629\n",
            " Saved new best model.\n",
            "Epoch 6/15 | Train Loss: 0.0234 | Val AUC: 0.8758\n",
            " Saved new best model.\n",
            "Epoch 7/15 | Train Loss: 0.0157 | Val AUC: 0.8492\n",
            "Epoch 8/15 | Train Loss: 0.0124 | Val AUC: 0.8612\n",
            "Epoch 9/15 | Train Loss: 0.0019 | Val AUC: 0.8621\n",
            "Epoch 10/15 | Train Loss: 0.0010 | Val AUC: 0.8629\n",
            "Epoch 11/15 | Train Loss: 0.0008 | Val AUC: 0.8621\n",
            "Epoch 12/15 | Train Loss: 0.0007 | Val AUC: 0.8617\n",
            "Epoch 13/15 | Train Loss: 0.0006 | Val AUC: 0.8608\n",
            "Epoch 14/15 | Train Loss: 0.0005 | Val AUC: 0.8612\n",
            "Epoch 15/15 | Train Loss: 0.0005 | Val AUC: 0.8617\n",
            "\n",
            " Loading best model...\n",
            "\n",
            " Evaluating on test set...\n",
            "\n",
            " Final Test Results\n",
            "Loss:     0.9981\n",
            "Accuracy: 0.7500\n",
            "Precision:0.6744\n",
            "Recall:   0.7250\n",
            "AUC:      0.8342\n",
            "\n",
            " Plotting ROC Curve...\n"
          ]
        },
        {
          "output_type": "display_data",
          "data": {
            "text/plain": [
              "<Figure size 800x600 with 1 Axes>"
            ],
            "image/png": "[encoded data removed]"
          },
          "metadata": {}
        },
        {
          "output_type": "stream",
          "name": "stdout",
          "text": [
            "CPU times: user 1min 30s, sys: 5.02 s, total: 1min 35s\n",
            "Wall time: 1min 44s\n"
          ]
        }
      ]
    },
    {
      "cell_type": "code",
      "source": [
        "# Evaluate on test set\n",
        "test_loss, test_metrics = evaluate_model(model, criterion, test_loader)\n",
        "\n",
        "# Print result\n",
        "print(\"\\n Final Test Results with Best Hyperparameters\")\n",
        "print(f\"Loss:     {test_loss:.4f}\")\n",
        "print(f\"Accuracy: {test_metrics['accuracy']:.4f}\")\n",
        "print(f\"Precision:{test_metrics['precision']:.4f}\")\n",
        "print(f\"Recall:   {test_metrics['recall']:.4f}\")\n",
        "print(f\"AUC:      {test_metrics['auc']:.4f}\")"
      ],
      "metadata": {
        "colab": {
          "base_uri": "https://localhost:8080/"
        },
        "id": "rQZKotnWMsXZ",
        "outputId": "ddb6cb5e-0885-49c9-dd61-9d33acd20557"
      },
      "execution_count": null,
      "outputs": [
        {
          "output_type": "stream",
          "name": "stdout",
          "text": [
            "\n",
            " Final Test Results with Best Hyperparameters\n",
            "Loss:     0.9981\n",
            "Accuracy: 0.7500\n",
            "Precision:0.6744\n",
            "Recall:   0.7250\n",
            "AUC:      0.8342\n"
          ]
        }
      ]
    }
  ]
}
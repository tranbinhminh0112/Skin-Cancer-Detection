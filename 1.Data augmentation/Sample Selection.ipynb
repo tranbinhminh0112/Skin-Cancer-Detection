{
 "cells": [
  {
   "cell_type": "code",
   "execution_count": 1,
   "metadata": {},
   "outputs": [
    {
     "name": "stdout",
     "output_type": "stream",
     "text": [
      "benign_malignant\n",
      "benign       32542\n",
      "malignant      584\n",
      "Name: count, dtype: int64\n",
      "Benign: 32542\n",
      "Malignant: 584\n"
     ]
    }
   ],
   "source": [
    "import pandas as pd\n",
    "\n",
    "df = pd.read_csv(\"ISIC_2020_Training_GroundTruth.csv\")  # change path if needed\n",
    "\n",
    "# Option 1: one-liner\n",
    "print(df[\"benign_malignant\"].value_counts())\n",
    "\n",
    "# Option 2: explicit variables\n",
    "benign     = (df[\"target\"] == 0).sum()\n",
    "malignant  = (df[\"target\"] == 1).sum()\n",
    "print(f\"Benign: {benign}\\nMalignant: {malignant}\")"
   ]
  },
  {
   "cell_type": "code",
   "execution_count": 2,
   "metadata": {},
   "outputs": [
    {
     "name": "stdout",
     "output_type": "stream",
     "text": [
      "Saved 1000 rows to subset_400mal_600ben.csv\n"
     ]
    }
   ],
   "source": [
    "import pandas as pd\n",
    "from pathlib import Path\n",
    "\n",
    "# ---------- CONFIG ----------\n",
    "SOURCE_CSV  = Path(\"ISIC_2020_Training_GroundTruth.csv\")  # adjust path as needed\n",
    "OUTPUT_CSV  = Path(\"subset_400mal_600ben.csv\")\n",
    "RNG_SEED    = 2025\n",
    "# ----------------------------\n",
    "\n",
    "df = pd.read_csv(SOURCE_CSV)\n",
    "\n",
    "# Identify class-label column and masks\n",
    "if \"benign_malignant\" in df.columns:          # common in ISIC ground-truth files\n",
    "    label_col = \"benign_malignant\"\n",
    "    mal_mask  = df[label_col].str.lower() == \"malignant\"\n",
    "    ben_mask  = df[label_col].str.lower() == \"benign\"\n",
    "elif \"target\" in df.columns:                   # 1 = malignant, 0 = benign\n",
    "    label_col = \"target\"\n",
    "    mal_mask  = df[label_col] == 1\n",
    "    ben_mask  = df[label_col] == 0\n",
    "else:\n",
    "    raise ValueError(\"No recognised class label column.\")\n",
    "\n",
    "# Sample 400 malignant + 600 benign\n",
    "malignant_df = df[mal_mask].sample(n=400, random_state=RNG_SEED, replace=False)\n",
    "benign_df    = df[ben_mask].sample(n=600, random_state=RNG_SEED, replace=False)\n",
    "\n",
    "subset_df = (\n",
    "    pd.concat([malignant_df, benign_df])\n",
    "      .sample(frac=1, random_state=RNG_SEED)        # shuffle rows\n",
    "      .reset_index(drop=True)\n",
    ")\n",
    "\n",
    "subset_df.to_csv(OUTPUT_CSV, index=False)\n",
    "print(f\"Saved {len(subset_df)} rows to {OUTPUT_CSV}\")"
   ]
  },
  {
   "cell_type": "code",
   "execution_count": 4,
   "metadata": {},
   "outputs": [
    {
     "name": "stdout",
     "output_type": "stream",
     "text": [
      "benign_malignant\n",
      "benign       600\n",
      "malignant    400\n",
      "Name: count, dtype: int64\n"
     ]
    }
   ],
   "source": [
    "import pandas as pd\n",
    "\n",
    "df = pd.read_csv(\"subset_400mal_600ben.csv\")  # change path if needed\n",
    "\n",
    "print(df[\"benign_malignant\"].value_counts())"
   ]
  },
  {
   "cell_type": "code",
   "execution_count": 7,
   "metadata": {},
   "outputs": [
    {
     "name": "stdout",
     "output_type": "stream",
     "text": [
      "✓ Copied & resized 1000 images to /Users/adrian/Desktop/Final Project/400mal_600ben_224\n"
     ]
    }
   ],
   "source": [
    "import pandas as pd\n",
    "from pathlib import Path\n",
    "from PIL import Image\n",
    "import shutil\n",
    "\n",
    "# ── CONFIG ────────────────────────────────────────────────────────────\n",
    "CSV_PATH         = Path(\"subset_400mal_600ben.csv\")     # ← 1 000-row csv\n",
    "SRC_IMG_DIR      = Path(\"JPEG\")      # ← original images\n",
    "DST_DIR          = Path(\"400mal_600ben_224\")                  # ← output folder\n",
    "FILENAME_COL     = \"image_name\"                         # change if needed\n",
    "LABEL_COL        = \"benign_malignant\"                   # or \"target\"\n",
    "RENAME_WITH_LABEL = False                                # prepend label_\n",
    "IMG_SIZE         = 224                                  # EfficientNet-B0\n",
    "# ───────────────────────────────────────────────────────────────────────\n",
    "\n",
    "# ---------- setup ----------\n",
    "df = pd.read_csv(CSV_PATH)\n",
    "\n",
    "# map 0/1 → strings if necessary\n",
    "if df[LABEL_COL].dtype != object:\n",
    "    df[LABEL_COL] = df[LABEL_COL].map({0: \"benign\", 1: \"malignant\"})\n",
    "\n",
    "DST_DIR.mkdir(parents=True, exist_ok=True)\n",
    "\n",
    "# ---------- copy + resize ----------\n",
    "missing = 0\n",
    "for _, row in df.iterrows():\n",
    "    src_path = SRC_IMG_DIR / f\"{row[FILENAME_COL]}.jpg\"   # tweak ext if .png\n",
    "    if not src_path.exists():\n",
    "        missing += 1\n",
    "        continue\n",
    "\n",
    "    # choose destination file name\n",
    "    fname = src_path.name\n",
    "    if RENAME_WITH_LABEL:\n",
    "        fname = f\"{row[LABEL_COL]}_{fname}\"\n",
    "    dst_path = DST_DIR / fname\n",
    "\n",
    "    # open, resize, save\n",
    "    with Image.open(src_path) as im:\n",
    "        im = im.convert(\"RGB\")\n",
    "        im = im.resize((IMG_SIZE, IMG_SIZE),\n",
    "                       Image.Resampling.LANCZOS)  # PIL ≥ 9.1\n",
    "        im.save(dst_path, \"JPEG\", quality=95)\n",
    "\n",
    "print(f\"✓ Copied & resized {len(df)-missing} images to {DST_DIR.resolve()}\")\n",
    "if missing:\n",
    "    print(f\"⚠️  {missing} files listed in CSV were missing.\")"
   ]
  },
  {
   "cell_type": "code",
   "execution_count": null,
   "metadata": {},
   "outputs": [],
   "source": []
  }
 ],
 "metadata": {
  "kernelspec": {
   "display_name": "Python (ARM-BASE)",
   "language": "python",
   "name": "xgb-arm"
  },
  "language_info": {
   "codemirror_mode": {
    "name": "ipython",
    "version": 3
   },
   "file_extension": ".py",
   "mimetype": "text/x-python",
   "name": "python",
   "nbconvert_exporter": "python",
   "pygments_lexer": "ipython3",
   "version": "3.10.16"
  }
 },
 "nbformat": 4,
 "nbformat_minor": 2
}
